{
 "cells": [
  {
   "cell_type": "code",
   "execution_count": 1,
   "metadata": {},
   "outputs": [
    {
     "name": "stdout",
     "output_type": "stream",
     "text": [
      "Collecting scikit-learn\n",
      "  Downloading scikit_learn-0.22.2.post1-cp38-cp38-win_amd64.whl (6.6 MB)\n",
      "Requirement already satisfied: scipy>=0.17.0 in d:\\python_project\\myenvpython\\lib\\site-packages (from scikit-learn) (1.4.1)\n",
      "Collecting joblib>=0.11\n",
      "  Downloading joblib-0.14.1-py2.py3-none-any.whl (294 kB)\n",
      "Requirement already satisfied: numpy>=1.11.0 in d:\\python_project\\myenvpython\\lib\\site-packages (from scikit-learn) (1.18.2)\n",
      "Installing collected packages: joblib, scikit-learn\n",
      "Successfully installed joblib-0.14.1 scikit-learn-0.22.2.post1\n"
     ]
    }
   ],
   "source": [
    "!pip install scikit-learn"
   ]
  },
  {
   "cell_type": "code",
   "execution_count": 3,
   "metadata": {},
   "outputs": [],
   "source": [
    "import sklearn as sl\n",
    "import numpy as np\n",
    "import pandas as pd\n",
    "import matplotlib.pyplot as plt\n",
    "import scipy as sp\n"
   ]
  },
  {
   "cell_type": "code",
   "execution_count": null,
   "metadata": {},
   "outputs": [],
   "source": []
  },
  {
   "cell_type": "markdown",
   "metadata": {},
   "source": [
    "## Data Loading for ML Projects\n"
   ]
  },
  {
   "cell_type": "code",
   "execution_count": 8,
   "metadata": {},
   "outputs": [
    {
     "data": {
      "text/plain": [
       "array([[6.000e+00, 1.480e+02, 7.200e+01, 3.500e+01, 0.000e+00, 3.360e+01,\n",
       "        6.270e-01, 5.000e+01, 1.000e+00],\n",
       "       [1.000e+00, 8.500e+01, 6.600e+01, 2.900e+01, 0.000e+00, 2.660e+01,\n",
       "        3.510e-01, 3.100e+01, 0.000e+00],\n",
       "       [8.000e+00, 1.830e+02, 6.400e+01, 0.000e+00, 0.000e+00, 2.330e+01,\n",
       "        6.720e-01, 3.200e+01, 1.000e+00],\n",
       "       [1.000e+00, 8.900e+01, 6.600e+01, 2.300e+01, 9.400e+01, 2.810e+01,\n",
       "        1.670e-01, 2.100e+01, 0.000e+00],\n",
       "       [0.000e+00, 1.370e+02, 4.000e+01, 3.500e+01, 1.680e+02, 4.310e+01,\n",
       "        2.288e+00, 3.300e+01, 1.000e+00],\n",
       "       [5.000e+00, 1.160e+02, 7.400e+01, 0.000e+00, 0.000e+00, 2.560e+01,\n",
       "        2.010e-01, 3.000e+01, 0.000e+00],\n",
       "       [3.000e+00, 7.800e+01, 5.000e+01, 3.200e+01, 8.800e+01, 3.100e+01,\n",
       "        2.480e-01, 2.600e+01, 1.000e+00],\n",
       "       [1.000e+01, 1.150e+02, 0.000e+00, 0.000e+00, 0.000e+00, 3.530e+01,\n",
       "        1.340e-01, 2.900e+01, 0.000e+00],\n",
       "       [2.000e+00, 1.970e+02, 7.000e+01, 4.500e+01, 5.430e+02, 3.050e+01,\n",
       "        1.580e-01, 5.300e+01, 1.000e+00],\n",
       "       [8.000e+00, 1.250e+02, 9.600e+01, 0.000e+00, 0.000e+00, 0.000e+00,\n",
       "        2.320e-01, 5.400e+01, 1.000e+00]])"
      ]
     },
     "execution_count": 8,
     "metadata": {},
     "output_type": "execute_result"
    }
   ],
   "source": [
    "from numpy import loadtxt\n",
    "datapath= open('mydata.csv', 'r')\n",
    "data = loadtxt(datapath, delimiter=\",\")\n",
    "data"
   ]
  },
  {
   "cell_type": "code",
   "execution_count": 14,
   "metadata": {},
   "outputs": [
    {
     "name": "stdout",
     "output_type": "stream",
     "text": [
      "(150, 5)\n",
      "   sepal.length  sepal.width  petal.length  petal.width variety\n",
      "0           5.1          3.5           1.4          0.2  Setosa\n",
      "1           4.9          3.0           1.4          0.2  Setosa\n",
      "2           4.7          3.2           1.3          0.2  Setosa\n"
     ]
    }
   ],
   "source": [
    "from pandas import read_csv\n",
    "path = r\"iris.csv\"\n",
    "data = read_csv(path)\n",
    "print(data.shape)\n",
    "print(data[:3])"
   ]
  },
  {
   "cell_type": "code",
   "execution_count": 17,
   "metadata": {},
   "outputs": [
    {
     "name": "stdout",
     "output_type": "stream",
     "text": [
      "(151, 5)\n",
      "           preg         plas          pres         skin     test\n",
      "0  sepal.length  sepal.width  petal.length  petal.width  variety\n",
      "1           5.1          3.5           1.4           .2   Setosa\n",
      "2           4.9            3           1.4           .2   Setosa\n"
     ]
    }
   ],
   "source": [
    "path = r\"iris.csv\"\n",
    "headernames = ['preg', 'plas', 'pres', 'skin', 'test']\n",
    "data = read_csv(path, names=headernames)\n",
    "print(data.shape)\n",
    "print(data[:3])"
   ]
  },
  {
   "cell_type": "markdown",
   "metadata": {},
   "source": [
    "## ML - Understanding Data with Statistics\n"
   ]
  },
  {
   "cell_type": "code",
   "execution_count": 18,
   "metadata": {},
   "outputs": [
    {
     "name": "stdout",
     "output_type": "stream",
     "text": [
      "    sepal.length  sepal.width  petal.length  petal.width variety\n",
      "0            5.1          3.5           1.4          0.2  Setosa\n",
      "1            4.9          3.0           1.4          0.2  Setosa\n",
      "2            4.7          3.2           1.3          0.2  Setosa\n",
      "3            4.6          3.1           1.5          0.2  Setosa\n",
      "4            5.0          3.6           1.4          0.2  Setosa\n",
      "5            5.4          3.9           1.7          0.4  Setosa\n",
      "6            4.6          3.4           1.4          0.3  Setosa\n",
      "7            5.0          3.4           1.5          0.2  Setosa\n",
      "8            4.4          2.9           1.4          0.2  Setosa\n",
      "9            4.9          3.1           1.5          0.1  Setosa\n",
      "10           5.4          3.7           1.5          0.2  Setosa\n",
      "11           4.8          3.4           1.6          0.2  Setosa\n",
      "12           4.8          3.0           1.4          0.1  Setosa\n",
      "13           4.3          3.0           1.1          0.1  Setosa\n",
      "14           5.8          4.0           1.2          0.2  Setosa\n",
      "15           5.7          4.4           1.5          0.4  Setosa\n",
      "16           5.4          3.9           1.3          0.4  Setosa\n",
      "17           5.1          3.5           1.4          0.3  Setosa\n",
      "18           5.7          3.8           1.7          0.3  Setosa\n",
      "19           5.1          3.8           1.5          0.3  Setosa\n",
      "20           5.4          3.4           1.7          0.2  Setosa\n",
      "21           5.1          3.7           1.5          0.4  Setosa\n",
      "22           4.6          3.6           1.0          0.2  Setosa\n",
      "23           5.1          3.3           1.7          0.5  Setosa\n",
      "24           4.8          3.4           1.9          0.2  Setosa\n",
      "25           5.0          3.0           1.6          0.2  Setosa\n",
      "26           5.0          3.4           1.6          0.4  Setosa\n",
      "27           5.2          3.5           1.5          0.2  Setosa\n",
      "28           5.2          3.4           1.4          0.2  Setosa\n",
      "29           4.7          3.2           1.6          0.2  Setosa\n",
      "30           4.8          3.1           1.6          0.2  Setosa\n",
      "31           5.4          3.4           1.5          0.4  Setosa\n",
      "32           5.2          4.1           1.5          0.1  Setosa\n",
      "33           5.5          4.2           1.4          0.2  Setosa\n",
      "34           4.9          3.1           1.5          0.2  Setosa\n",
      "35           5.0          3.2           1.2          0.2  Setosa\n",
      "36           5.5          3.5           1.3          0.2  Setosa\n",
      "37           4.9          3.6           1.4          0.1  Setosa\n",
      "38           4.4          3.0           1.3          0.2  Setosa\n",
      "39           5.1          3.4           1.5          0.2  Setosa\n",
      "40           5.0          3.5           1.3          0.3  Setosa\n",
      "41           4.5          2.3           1.3          0.3  Setosa\n",
      "42           4.4          3.2           1.3          0.2  Setosa\n",
      "43           5.0          3.5           1.6          0.6  Setosa\n",
      "44           5.1          3.8           1.9          0.4  Setosa\n",
      "45           4.8          3.0           1.4          0.3  Setosa\n",
      "46           5.1          3.8           1.6          0.2  Setosa\n",
      "47           4.6          3.2           1.4          0.2  Setosa\n",
      "48           5.3          3.7           1.5          0.2  Setosa\n",
      "49           5.0          3.3           1.4          0.2  Setosa\n"
     ]
    }
   ],
   "source": [
    "from pandas import read_csv\n",
    "path = r\"iris.csv\"\n",
    "data = read_csv(path)\n",
    "print(data.head(50))"
   ]
  },
  {
   "cell_type": "code",
   "execution_count": 19,
   "metadata": {},
   "outputs": [
    {
     "name": "stdout",
     "output_type": "stream",
     "text": [
      "(150, 5)\n"
     ]
    }
   ],
   "source": [
    "print(data.shape)"
   ]
  },
  {
   "cell_type": "code",
   "execution_count": 20,
   "metadata": {},
   "outputs": [
    {
     "name": "stdout",
     "output_type": "stream",
     "text": [
      "sepal.length    float64\n",
      "sepal.width     float64\n",
      "petal.length    float64\n",
      "petal.width     float64\n",
      "variety          object\n",
      "dtype: object\n"
     ]
    }
   ],
   "source": [
    "print(data.dtypes)"
   ]
  },
  {
   "cell_type": "code",
   "execution_count": 21,
   "metadata": {},
   "outputs": [
    {
     "name": "stdout",
     "output_type": "stream",
     "text": [
      "       sepal.length  sepal.width  petal.length  petal.width\n",
      "count    150.000000   150.000000    150.000000   150.000000\n",
      "mean       5.843333     3.057333      3.758000     1.199333\n",
      "std        0.828066     0.435866      1.765298     0.762238\n",
      "min        4.300000     2.000000      1.000000     0.100000\n",
      "25%        5.100000     2.800000      1.600000     0.300000\n",
      "50%        5.800000     3.000000      4.350000     1.300000\n",
      "75%        6.400000     3.300000      5.100000     1.800000\n",
      "max        7.900000     4.400000      6.900000     2.500000\n"
     ]
    }
   ],
   "source": [
    "print(data.describe())"
   ]
  },
  {
   "cell_type": "code",
   "execution_count": 22,
   "metadata": {},
   "outputs": [
    {
     "name": "stdout",
     "output_type": "stream",
     "text": [
      "variety\n",
      "Setosa        50\n",
      "Versicolor    50\n",
      "Virginica     50\n",
      "dtype: int64\n"
     ]
    }
   ],
   "source": [
    "count_class = data.groupby('variety').size()\n",
    "print(count_class)"
   ]
  },
  {
   "cell_type": "code",
   "execution_count": 23,
   "metadata": {},
   "outputs": [
    {
     "name": "stdout",
     "output_type": "stream",
     "text": [
      "              sepal.length  sepal.width  petal.length  petal.width\n",
      "sepal.length      1.000000    -0.117570      0.871754     0.817941\n",
      "sepal.width      -0.117570     1.000000     -0.428440    -0.366126\n",
      "petal.length      0.871754    -0.428440      1.000000     0.962865\n",
      "petal.width       0.817941    -0.366126      0.962865     1.000000\n"
     ]
    }
   ],
   "source": [
    "correlations = data.corr(method='pearson')\n",
    "print(correlations)"
   ]
  },
  {
   "cell_type": "code",
   "execution_count": 24,
   "metadata": {},
   "outputs": [
    {
     "name": "stdout",
     "output_type": "stream",
     "text": [
      "sepal.length    0.314911\n",
      "sepal.width     0.318966\n",
      "petal.length   -0.274884\n",
      "petal.width    -0.102967\n",
      "dtype: float64\n"
     ]
    }
   ],
   "source": [
    "print(data.skew())"
   ]
  },
  {
   "cell_type": "code",
   "execution_count": 25,
   "metadata": {},
   "outputs": [
    {
     "name": "stdout",
     "output_type": "stream",
     "text": [
      "<class 'pandas.core.frame.DataFrame'>\n",
      "RangeIndex: 150 entries, 0 to 149\n",
      "Data columns (total 5 columns):\n",
      " #   Column        Non-Null Count  Dtype  \n",
      "---  ------        --------------  -----  \n",
      " 0   sepal.length  150 non-null    float64\n",
      " 1   sepal.width   150 non-null    float64\n",
      " 2   petal.length  150 non-null    float64\n",
      " 3   petal.width   150 non-null    float64\n",
      " 4   variety       150 non-null    object \n",
      "dtypes: float64(4), object(1)\n",
      "memory usage: 6.0+ KB\n"
     ]
    }
   ],
   "source": [
    "data.info()"
   ]
  },
  {
   "cell_type": "markdown",
   "metadata": {},
   "source": [
    "## ML - Understanding Data with Visualization\n"
   ]
  },
  {
   "cell_type": "code",
   "execution_count": 26,
   "metadata": {},
   "outputs": [
    {
     "data": {
      "image/png": "[encoded data removed]",
      "text/plain": [
       "<Figure size 432x288 with 4 Axes>"
      ]
     },
     "metadata": {
      "needs_background": "light"
     },
     "output_type": "display_data"
    }
   ],
   "source": [
    "from matplotlib import pyplot\n",
    "from pandas import read_csv\n",
    "path = r\"iris.csv\"\n",
    "data = read_csv(path)\n",
    "data.hist()\n",
    "pyplot.show()"
   ]
  },
  {
   "cell_type": "code",
   "execution_count": 28,
   "metadata": {},
   "outputs": [
    {
     "data": {
      "image/png": "[encoded data removed]",
      "text/plain": [
       "<Figure size 432x288 with 4 Axes>"
      ]
     },
     "metadata": {
      "needs_background": "light"
     },
     "output_type": "display_data"
    }
   ],
   "source": [
    "data.plot(kind='density', subplots=True, layout=(2,2), sharex=False)\n",
    "pyplot.show()"
   ]
  },
  {
   "cell_type": "code",
   "execution_count": 30,
   "metadata": {},
   "outputs": [
    {
     "data": {
      "image/png": "[encoded data removed]",
      "text/plain": [
       "<Figure size 432x288 with 4 Axes>"
      ]
     },
     "metadata": {
      "needs_background": "light"
     },
     "output_type": "display_data"
    }
   ],
   "source": [
    "data.plot(kind = 'box', subplots = True, layout = (2,2), sharex = False,sharey = False)\n",
    "pyplot.show()"
   ]
  },
  {
   "cell_type": "code",
   "execution_count": 37,
   "metadata": {},
   "outputs": [
    {
     "data": {
      "image/png": "[encoded data removed]",
      "text/plain": [
       "<Figure size 432x288 with 2 Axes>"
      ]
     },
     "metadata": {
      "needs_background": "light"
     },
     "output_type": "display_data"
    }
   ],
   "source": [
    "correlations = data.corr()\n",
    "fig = pyplot.figure()\n",
    "ax = fig.add_subplot(111)\n",
    "cax = ax.matshow(correlations, vmin=-1, vmax=1)\n",
    "fig.colorbar(cax)\n",
    "ticks = np.arange(0,9,1)\n",
    "ax.set_xticks(ticks)\n",
    "ax.set_yticks(ticks)\n",
    "ax.set_xticklabels(data.columns.values)\n",
    "ax.set_yticklabels(data.columns.values)\n",
    "pyplot.show()"
   ]
  },
  {
   "cell_type": "code",
   "execution_count": 42,
   "metadata": {},
   "outputs": [
    {
     "ename": "ModuleNotFoundError",
     "evalue": "No module named 'pandas.tools'",
     "output_type": "error",
     "traceback": [
      "\u001b[1;31m---------------------------------------------------------------------------\u001b[0m",
      "\u001b[1;31mModuleNotFoundError\u001b[0m                       Traceback (most recent call last)",
      "\u001b[1;32m<ipython-input-42-c01fdd05a4eb>\u001b[0m in \u001b[0;36m<module>\u001b[1;34m\u001b[0m\n\u001b[1;32m----> 1\u001b[1;33m \u001b[1;32mfrom\u001b[0m \u001b[0mpandas\u001b[0m\u001b[1;33m.\u001b[0m\u001b[0mtools\u001b[0m\u001b[1;33m.\u001b[0m\u001b[0mplotting\u001b[0m \u001b[1;32mimport\u001b[0m \u001b[0mscatter_matrix\u001b[0m\u001b[1;33m\u001b[0m\u001b[1;33m\u001b[0m\u001b[0m\n\u001b[0m\u001b[0;32m      2\u001b[0m \u001b[0mscatter_matrix\u001b[0m\u001b[1;33m(\u001b[0m\u001b[0mdata\u001b[0m\u001b[1;33m)\u001b[0m\u001b[1;33m\u001b[0m\u001b[1;33m\u001b[0m\u001b[0m\n\u001b[0;32m      3\u001b[0m \u001b[0mplt\u001b[0m\u001b[1;33m.\u001b[0m\u001b[0mshow\u001b[0m\u001b[1;33m(\u001b[0m\u001b[1;33m)\u001b[0m\u001b[1;33m\u001b[0m\u001b[1;33m\u001b[0m\u001b[0m\n",
      "\u001b[1;31mModuleNotFoundError\u001b[0m: No module named 'pandas.tools'"
     ]
    }
   ],
   "source": [
    "from pandas.tools.plotting import scatter_matrix\n",
    "scatter_matrix(data)\n",
    "plt.show()"
   ]
  },
  {
   "cell_type": "markdown",
   "metadata": {},
   "source": [
    "## Machine Learning - Preparing Data\n"
   ]
  },
  {
   "cell_type": "code",
   "execution_count": 49,
   "metadata": {},
   "outputs": [
    {
     "data": {
      "text/html": [
       "<div>\n",
       "<style scoped>\n",
       "    .dataframe tbody tr th:only-of-type {\n",
       "        vertical-align: middle;\n",
       "    }\n",
       "\n",
       "    .dataframe tbody tr th {\n",
       "        vertical-align: top;\n",
       "    }\n",
       "\n",
       "    .dataframe thead th {\n",
       "        text-align: right;\n",
       "    }\n",
       "</style>\n",
       "<table border=\"1\" class=\"dataframe\">\n",
       "  <thead>\n",
       "    <tr style=\"text-align: right;\">\n",
       "      <th></th>\n",
       "      <th>sepal.length</th>\n",
       "      <th>sepal.width</th>\n",
       "      <th>petal.length</th>\n",
       "      <th>petal.width</th>\n",
       "      <th>variety</th>\n",
       "    </tr>\n",
       "  </thead>\n",
       "  <tbody>\n",
       "    <tr>\n",
       "      <th>0</th>\n",
       "      <td>5.1</td>\n",
       "      <td>3.5</td>\n",
       "      <td>1.4</td>\n",
       "      <td>0.2</td>\n",
       "      <td>0</td>\n",
       "    </tr>\n",
       "    <tr>\n",
       "      <th>1</th>\n",
       "      <td>4.9</td>\n",
       "      <td>3.0</td>\n",
       "      <td>1.4</td>\n",
       "      <td>0.2</td>\n",
       "      <td>0</td>\n",
       "    </tr>\n",
       "    <tr>\n",
       "      <th>2</th>\n",
       "      <td>4.7</td>\n",
       "      <td>3.2</td>\n",
       "      <td>1.3</td>\n",
       "      <td>0.2</td>\n",
       "      <td>0</td>\n",
       "    </tr>\n",
       "    <tr>\n",
       "      <th>3</th>\n",
       "      <td>4.6</td>\n",
       "      <td>3.1</td>\n",
       "      <td>1.5</td>\n",
       "      <td>0.2</td>\n",
       "      <td>0</td>\n",
       "    </tr>\n",
       "    <tr>\n",
       "      <th>4</th>\n",
       "      <td>5.0</td>\n",
       "      <td>3.6</td>\n",
       "      <td>1.4</td>\n",
       "      <td>0.2</td>\n",
       "      <td>0</td>\n",
       "    </tr>\n",
       "    <tr>\n",
       "      <th>...</th>\n",
       "      <td>...</td>\n",
       "      <td>...</td>\n",
       "      <td>...</td>\n",
       "      <td>...</td>\n",
       "      <td>...</td>\n",
       "    </tr>\n",
       "    <tr>\n",
       "      <th>145</th>\n",
       "      <td>6.7</td>\n",
       "      <td>3.0</td>\n",
       "      <td>5.2</td>\n",
       "      <td>2.3</td>\n",
       "      <td>2</td>\n",
       "    </tr>\n",
       "    <tr>\n",
       "      <th>146</th>\n",
       "      <td>6.3</td>\n",
       "      <td>2.5</td>\n",
       "      <td>5.0</td>\n",
       "      <td>1.9</td>\n",
       "      <td>2</td>\n",
       "    </tr>\n",
       "    <tr>\n",
       "      <th>147</th>\n",
       "      <td>6.5</td>\n",
       "      <td>3.0</td>\n",
       "      <td>5.2</td>\n",
       "      <td>2.0</td>\n",
       "      <td>2</td>\n",
       "    </tr>\n",
       "    <tr>\n",
       "      <th>148</th>\n",
       "      <td>6.2</td>\n",
       "      <td>3.4</td>\n",
       "      <td>5.4</td>\n",
       "      <td>2.3</td>\n",
       "      <td>2</td>\n",
       "    </tr>\n",
       "    <tr>\n",
       "      <th>149</th>\n",
       "      <td>5.9</td>\n",
       "      <td>3.0</td>\n",
       "      <td>5.1</td>\n",
       "      <td>1.8</td>\n",
       "      <td>2</td>\n",
       "    </tr>\n",
       "  </tbody>\n",
       "</table>\n",
       "<p>150 rows × 5 columns</p>\n",
       "</div>"
      ],
      "text/plain": [
       "     sepal.length  sepal.width  petal.length  petal.width  variety\n",
       "0             5.1          3.5           1.4          0.2        0\n",
       "1             4.9          3.0           1.4          0.2        0\n",
       "2             4.7          3.2           1.3          0.2        0\n",
       "3             4.6          3.1           1.5          0.2        0\n",
       "4             5.0          3.6           1.4          0.2        0\n",
       "..            ...          ...           ...          ...      ...\n",
       "145           6.7          3.0           5.2          2.3        2\n",
       "146           6.3          2.5           5.0          1.9        2\n",
       "147           6.5          3.0           5.2          2.0        2\n",
       "148           6.2          3.4           5.4          2.3        2\n",
       "149           5.9          3.0           5.1          1.8        2\n",
       "\n",
       "[150 rows x 5 columns]"
      ]
     },
     "execution_count": 49,
     "metadata": {},
     "output_type": "execute_result"
    }
   ],
   "source": [
    "data"
   ]
  },
  {
   "cell_type": "code",
   "execution_count": 50,
   "metadata": {},
   "outputs": [
    {
     "data": {
      "text/html": [
       "<div>\n",
       "<style scoped>\n",
       "    .dataframe tbody tr th:only-of-type {\n",
       "        vertical-align: middle;\n",
       "    }\n",
       "\n",
       "    .dataframe tbody tr th {\n",
       "        vertical-align: top;\n",
       "    }\n",
       "\n",
       "    .dataframe thead th {\n",
       "        text-align: right;\n",
       "    }\n",
       "</style>\n",
       "<table border=\"1\" class=\"dataframe\">\n",
       "  <thead>\n",
       "    <tr style=\"text-align: right;\">\n",
       "      <th></th>\n",
       "      <th>sepal.length</th>\n",
       "      <th>sepal.width</th>\n",
       "      <th>petal.length</th>\n",
       "      <th>petal.width</th>\n",
       "      <th>variety</th>\n",
       "    </tr>\n",
       "  </thead>\n",
       "  <tbody>\n",
       "    <tr>\n",
       "      <th>0</th>\n",
       "      <td>5.1</td>\n",
       "      <td>3.5</td>\n",
       "      <td>1.4</td>\n",
       "      <td>0.2</td>\n",
       "      <td>0</td>\n",
       "    </tr>\n",
       "    <tr>\n",
       "      <th>1</th>\n",
       "      <td>4.9</td>\n",
       "      <td>3.0</td>\n",
       "      <td>1.4</td>\n",
       "      <td>0.2</td>\n",
       "      <td>0</td>\n",
       "    </tr>\n",
       "    <tr>\n",
       "      <th>2</th>\n",
       "      <td>4.7</td>\n",
       "      <td>3.2</td>\n",
       "      <td>1.3</td>\n",
       "      <td>0.2</td>\n",
       "      <td>0</td>\n",
       "    </tr>\n",
       "    <tr>\n",
       "      <th>3</th>\n",
       "      <td>4.6</td>\n",
       "      <td>3.1</td>\n",
       "      <td>1.5</td>\n",
       "      <td>0.2</td>\n",
       "      <td>0</td>\n",
       "    </tr>\n",
       "    <tr>\n",
       "      <th>4</th>\n",
       "      <td>5.0</td>\n",
       "      <td>3.6</td>\n",
       "      <td>1.4</td>\n",
       "      <td>0.2</td>\n",
       "      <td>0</td>\n",
       "    </tr>\n",
       "    <tr>\n",
       "      <th>...</th>\n",
       "      <td>...</td>\n",
       "      <td>...</td>\n",
       "      <td>...</td>\n",
       "      <td>...</td>\n",
       "      <td>...</td>\n",
       "    </tr>\n",
       "    <tr>\n",
       "      <th>145</th>\n",
       "      <td>6.7</td>\n",
       "      <td>3.0</td>\n",
       "      <td>5.2</td>\n",
       "      <td>2.3</td>\n",
       "      <td>2</td>\n",
       "    </tr>\n",
       "    <tr>\n",
       "      <th>146</th>\n",
       "      <td>6.3</td>\n",
       "      <td>2.5</td>\n",
       "      <td>5.0</td>\n",
       "      <td>1.9</td>\n",
       "      <td>2</td>\n",
       "    </tr>\n",
       "    <tr>\n",
       "      <th>147</th>\n",
       "      <td>6.5</td>\n",
       "      <td>3.0</td>\n",
       "      <td>5.2</td>\n",
       "      <td>2.0</td>\n",
       "      <td>2</td>\n",
       "    </tr>\n",
       "    <tr>\n",
       "      <th>148</th>\n",
       "      <td>6.2</td>\n",
       "      <td>3.4</td>\n",
       "      <td>5.4</td>\n",
       "      <td>2.3</td>\n",
       "      <td>2</td>\n",
       "    </tr>\n",
       "    <tr>\n",
       "      <th>149</th>\n",
       "      <td>5.9</td>\n",
       "      <td>3.0</td>\n",
       "      <td>5.1</td>\n",
       "      <td>1.8</td>\n",
       "      <td>2</td>\n",
       "    </tr>\n",
       "  </tbody>\n",
       "</table>\n",
       "<p>150 rows × 5 columns</p>\n",
       "</div>"
      ],
      "text/plain": [
       "     sepal.length  sepal.width  petal.length  petal.width  variety\n",
       "0             5.1          3.5           1.4          0.2        0\n",
       "1             4.9          3.0           1.4          0.2        0\n",
       "2             4.7          3.2           1.3          0.2        0\n",
       "3             4.6          3.1           1.5          0.2        0\n",
       "4             5.0          3.6           1.4          0.2        0\n",
       "..            ...          ...           ...          ...      ...\n",
       "145           6.7          3.0           5.2          2.3        2\n",
       "146           6.3          2.5           5.0          1.9        2\n",
       "147           6.5          3.0           5.2          2.0        2\n",
       "148           6.2          3.4           5.4          2.3        2\n",
       "149           5.9          3.0           5.1          1.8        2\n",
       "\n",
       "[150 rows x 5 columns]"
      ]
     },
     "execution_count": 50,
     "metadata": {},
     "output_type": "execute_result"
    }
   ],
   "source": [
    "from sklearn.preprocessing import LabelEncoder\n",
    "label_encoder= LabelEncoder()\n",
    "data['variety'] = label_encoder.fit_transform(data['variety']) #string labels to int lables\n",
    "data"
   ]
  },
  {
   "cell_type": "code",
   "execution_count": 51,
   "metadata": {},
   "outputs": [
    {
     "data": {
      "text/plain": [
       "array([[0.22222222, 0.625     , 0.06779661, 0.04166667, 0.        ],\n",
       "       [0.16666667, 0.41666667, 0.06779661, 0.04166667, 0.        ],\n",
       "       [0.11111111, 0.5       , 0.05084746, 0.04166667, 0.        ],\n",
       "       [0.08333333, 0.45833333, 0.08474576, 0.04166667, 0.        ],\n",
       "       [0.19444444, 0.66666667, 0.06779661, 0.04166667, 0.        ],\n",
       "       [0.30555556, 0.79166667, 0.11864407, 0.125     , 0.        ],\n",
       "       [0.08333333, 0.58333333, 0.06779661, 0.08333333, 0.        ],\n",
       "       [0.19444444, 0.58333333, 0.08474576, 0.04166667, 0.        ],\n",
       "       [0.02777778, 0.375     , 0.06779661, 0.04166667, 0.        ],\n",
       "       [0.16666667, 0.45833333, 0.08474576, 0.        , 0.        ],\n",
       "       [0.30555556, 0.70833333, 0.08474576, 0.04166667, 0.        ],\n",
       "       [0.13888889, 0.58333333, 0.10169492, 0.04166667, 0.        ],\n",
       "       [0.13888889, 0.41666667, 0.06779661, 0.        , 0.        ],\n",
       "       [0.        , 0.41666667, 0.01694915, 0.        , 0.        ],\n",
       "       [0.41666667, 0.83333333, 0.03389831, 0.04166667, 0.        ],\n",
       "       [0.38888889, 1.        , 0.08474576, 0.125     , 0.        ],\n",
       "       [0.30555556, 0.79166667, 0.05084746, 0.125     , 0.        ],\n",
       "       [0.22222222, 0.625     , 0.06779661, 0.08333333, 0.        ],\n",
       "       [0.38888889, 0.75      , 0.11864407, 0.08333333, 0.        ],\n",
       "       [0.22222222, 0.75      , 0.08474576, 0.08333333, 0.        ],\n",
       "       [0.30555556, 0.58333333, 0.11864407, 0.04166667, 0.        ],\n",
       "       [0.22222222, 0.70833333, 0.08474576, 0.125     , 0.        ],\n",
       "       [0.08333333, 0.66666667, 0.        , 0.04166667, 0.        ],\n",
       "       [0.22222222, 0.54166667, 0.11864407, 0.16666667, 0.        ],\n",
       "       [0.13888889, 0.58333333, 0.15254237, 0.04166667, 0.        ],\n",
       "       [0.19444444, 0.41666667, 0.10169492, 0.04166667, 0.        ],\n",
       "       [0.19444444, 0.58333333, 0.10169492, 0.125     , 0.        ],\n",
       "       [0.25      , 0.625     , 0.08474576, 0.04166667, 0.        ],\n",
       "       [0.25      , 0.58333333, 0.06779661, 0.04166667, 0.        ],\n",
       "       [0.11111111, 0.5       , 0.10169492, 0.04166667, 0.        ],\n",
       "       [0.13888889, 0.45833333, 0.10169492, 0.04166667, 0.        ],\n",
       "       [0.30555556, 0.58333333, 0.08474576, 0.125     , 0.        ],\n",
       "       [0.25      , 0.875     , 0.08474576, 0.        , 0.        ],\n",
       "       [0.33333333, 0.91666667, 0.06779661, 0.04166667, 0.        ],\n",
       "       [0.16666667, 0.45833333, 0.08474576, 0.04166667, 0.        ],\n",
       "       [0.19444444, 0.5       , 0.03389831, 0.04166667, 0.        ],\n",
       "       [0.33333333, 0.625     , 0.05084746, 0.04166667, 0.        ],\n",
       "       [0.16666667, 0.66666667, 0.06779661, 0.        , 0.        ],\n",
       "       [0.02777778, 0.41666667, 0.05084746, 0.04166667, 0.        ],\n",
       "       [0.22222222, 0.58333333, 0.08474576, 0.04166667, 0.        ],\n",
       "       [0.19444444, 0.625     , 0.05084746, 0.08333333, 0.        ],\n",
       "       [0.05555556, 0.125     , 0.05084746, 0.08333333, 0.        ],\n",
       "       [0.02777778, 0.5       , 0.05084746, 0.04166667, 0.        ],\n",
       "       [0.19444444, 0.625     , 0.10169492, 0.20833333, 0.        ],\n",
       "       [0.22222222, 0.75      , 0.15254237, 0.125     , 0.        ],\n",
       "       [0.13888889, 0.41666667, 0.06779661, 0.08333333, 0.        ],\n",
       "       [0.22222222, 0.75      , 0.10169492, 0.04166667, 0.        ],\n",
       "       [0.08333333, 0.5       , 0.06779661, 0.04166667, 0.        ],\n",
       "       [0.27777778, 0.70833333, 0.08474576, 0.04166667, 0.        ],\n",
       "       [0.19444444, 0.54166667, 0.06779661, 0.04166667, 0.        ],\n",
       "       [0.75      , 0.5       , 0.62711864, 0.54166667, 0.5       ],\n",
       "       [0.58333333, 0.5       , 0.59322034, 0.58333333, 0.5       ],\n",
       "       [0.72222222, 0.45833333, 0.66101695, 0.58333333, 0.5       ],\n",
       "       [0.33333333, 0.125     , 0.50847458, 0.5       , 0.5       ],\n",
       "       [0.61111111, 0.33333333, 0.61016949, 0.58333333, 0.5       ],\n",
       "       [0.38888889, 0.33333333, 0.59322034, 0.5       , 0.5       ],\n",
       "       [0.55555556, 0.54166667, 0.62711864, 0.625     , 0.5       ],\n",
       "       [0.16666667, 0.16666667, 0.38983051, 0.375     , 0.5       ],\n",
       "       [0.63888889, 0.375     , 0.61016949, 0.5       , 0.5       ],\n",
       "       [0.25      , 0.29166667, 0.49152542, 0.54166667, 0.5       ],\n",
       "       [0.19444444, 0.        , 0.42372881, 0.375     , 0.5       ],\n",
       "       [0.44444444, 0.41666667, 0.54237288, 0.58333333, 0.5       ],\n",
       "       [0.47222222, 0.08333333, 0.50847458, 0.375     , 0.5       ],\n",
       "       [0.5       , 0.375     , 0.62711864, 0.54166667, 0.5       ],\n",
       "       [0.36111111, 0.375     , 0.44067797, 0.5       , 0.5       ],\n",
       "       [0.66666667, 0.45833333, 0.57627119, 0.54166667, 0.5       ],\n",
       "       [0.36111111, 0.41666667, 0.59322034, 0.58333333, 0.5       ],\n",
       "       [0.41666667, 0.29166667, 0.52542373, 0.375     , 0.5       ],\n",
       "       [0.52777778, 0.08333333, 0.59322034, 0.58333333, 0.5       ],\n",
       "       [0.36111111, 0.20833333, 0.49152542, 0.41666667, 0.5       ],\n",
       "       [0.44444444, 0.5       , 0.6440678 , 0.70833333, 0.5       ],\n",
       "       [0.5       , 0.33333333, 0.50847458, 0.5       , 0.5       ],\n",
       "       [0.55555556, 0.20833333, 0.66101695, 0.58333333, 0.5       ],\n",
       "       [0.5       , 0.33333333, 0.62711864, 0.45833333, 0.5       ],\n",
       "       [0.58333333, 0.375     , 0.55932203, 0.5       , 0.5       ],\n",
       "       [0.63888889, 0.41666667, 0.57627119, 0.54166667, 0.5       ],\n",
       "       [0.69444444, 0.33333333, 0.6440678 , 0.54166667, 0.5       ],\n",
       "       [0.66666667, 0.41666667, 0.6779661 , 0.66666667, 0.5       ],\n",
       "       [0.47222222, 0.375     , 0.59322034, 0.58333333, 0.5       ],\n",
       "       [0.38888889, 0.25      , 0.42372881, 0.375     , 0.5       ],\n",
       "       [0.33333333, 0.16666667, 0.47457627, 0.41666667, 0.5       ],\n",
       "       [0.33333333, 0.16666667, 0.45762712, 0.375     , 0.5       ],\n",
       "       [0.41666667, 0.29166667, 0.49152542, 0.45833333, 0.5       ],\n",
       "       [0.47222222, 0.29166667, 0.69491525, 0.625     , 0.5       ],\n",
       "       [0.30555556, 0.41666667, 0.59322034, 0.58333333, 0.5       ],\n",
       "       [0.47222222, 0.58333333, 0.59322034, 0.625     , 0.5       ],\n",
       "       [0.66666667, 0.45833333, 0.62711864, 0.58333333, 0.5       ],\n",
       "       [0.55555556, 0.125     , 0.57627119, 0.5       , 0.5       ],\n",
       "       [0.36111111, 0.41666667, 0.52542373, 0.5       , 0.5       ],\n",
       "       [0.33333333, 0.20833333, 0.50847458, 0.5       , 0.5       ],\n",
       "       [0.33333333, 0.25      , 0.57627119, 0.45833333, 0.5       ],\n",
       "       [0.5       , 0.41666667, 0.61016949, 0.54166667, 0.5       ],\n",
       "       [0.41666667, 0.25      , 0.50847458, 0.45833333, 0.5       ],\n",
       "       [0.19444444, 0.125     , 0.38983051, 0.375     , 0.5       ],\n",
       "       [0.36111111, 0.29166667, 0.54237288, 0.5       , 0.5       ],\n",
       "       [0.38888889, 0.41666667, 0.54237288, 0.45833333, 0.5       ],\n",
       "       [0.38888889, 0.375     , 0.54237288, 0.5       , 0.5       ],\n",
       "       [0.52777778, 0.375     , 0.55932203, 0.5       , 0.5       ],\n",
       "       [0.22222222, 0.20833333, 0.33898305, 0.41666667, 0.5       ],\n",
       "       [0.38888889, 0.33333333, 0.52542373, 0.5       , 0.5       ],\n",
       "       [0.55555556, 0.54166667, 0.84745763, 1.        , 1.        ],\n",
       "       [0.41666667, 0.29166667, 0.69491525, 0.75      , 1.        ],\n",
       "       [0.77777778, 0.41666667, 0.83050847, 0.83333333, 1.        ],\n",
       "       [0.55555556, 0.375     , 0.77966102, 0.70833333, 1.        ],\n",
       "       [0.61111111, 0.41666667, 0.81355932, 0.875     , 1.        ],\n",
       "       [0.91666667, 0.41666667, 0.94915254, 0.83333333, 1.        ],\n",
       "       [0.16666667, 0.20833333, 0.59322034, 0.66666667, 1.        ],\n",
       "       [0.83333333, 0.375     , 0.89830508, 0.70833333, 1.        ],\n",
       "       [0.66666667, 0.20833333, 0.81355932, 0.70833333, 1.        ],\n",
       "       [0.80555556, 0.66666667, 0.86440678, 1.        , 1.        ],\n",
       "       [0.61111111, 0.5       , 0.69491525, 0.79166667, 1.        ],\n",
       "       [0.58333333, 0.29166667, 0.72881356, 0.75      , 1.        ],\n",
       "       [0.69444444, 0.41666667, 0.76271186, 0.83333333, 1.        ],\n",
       "       [0.38888889, 0.20833333, 0.6779661 , 0.79166667, 1.        ],\n",
       "       [0.41666667, 0.33333333, 0.69491525, 0.95833333, 1.        ],\n",
       "       [0.58333333, 0.5       , 0.72881356, 0.91666667, 1.        ],\n",
       "       [0.61111111, 0.41666667, 0.76271186, 0.70833333, 1.        ],\n",
       "       [0.94444444, 0.75      , 0.96610169, 0.875     , 1.        ],\n",
       "       [0.94444444, 0.25      , 1.        , 0.91666667, 1.        ],\n",
       "       [0.47222222, 0.08333333, 0.6779661 , 0.58333333, 1.        ],\n",
       "       [0.72222222, 0.5       , 0.79661017, 0.91666667, 1.        ],\n",
       "       [0.36111111, 0.33333333, 0.66101695, 0.79166667, 1.        ],\n",
       "       [0.94444444, 0.33333333, 0.96610169, 0.79166667, 1.        ],\n",
       "       [0.55555556, 0.29166667, 0.66101695, 0.70833333, 1.        ],\n",
       "       [0.66666667, 0.54166667, 0.79661017, 0.83333333, 1.        ],\n",
       "       [0.80555556, 0.5       , 0.84745763, 0.70833333, 1.        ],\n",
       "       [0.52777778, 0.33333333, 0.6440678 , 0.70833333, 1.        ],\n",
       "       [0.5       , 0.41666667, 0.66101695, 0.70833333, 1.        ],\n",
       "       [0.58333333, 0.33333333, 0.77966102, 0.83333333, 1.        ],\n",
       "       [0.80555556, 0.41666667, 0.81355932, 0.625     , 1.        ],\n",
       "       [0.86111111, 0.33333333, 0.86440678, 0.75      , 1.        ],\n",
       "       [1.        , 0.75      , 0.91525424, 0.79166667, 1.        ],\n",
       "       [0.58333333, 0.33333333, 0.77966102, 0.875     , 1.        ],\n",
       "       [0.55555556, 0.33333333, 0.69491525, 0.58333333, 1.        ],\n",
       "       [0.5       , 0.25      , 0.77966102, 0.54166667, 1.        ],\n",
       "       [0.94444444, 0.41666667, 0.86440678, 0.91666667, 1.        ],\n",
       "       [0.55555556, 0.58333333, 0.77966102, 0.95833333, 1.        ],\n",
       "       [0.58333333, 0.45833333, 0.76271186, 0.70833333, 1.        ],\n",
       "       [0.47222222, 0.41666667, 0.6440678 , 0.70833333, 1.        ],\n",
       "       [0.72222222, 0.45833333, 0.74576271, 0.83333333, 1.        ],\n",
       "       [0.66666667, 0.45833333, 0.77966102, 0.95833333, 1.        ],\n",
       "       [0.72222222, 0.45833333, 0.69491525, 0.91666667, 1.        ],\n",
       "       [0.41666667, 0.29166667, 0.69491525, 0.75      , 1.        ],\n",
       "       [0.69444444, 0.5       , 0.83050847, 0.91666667, 1.        ],\n",
       "       [0.66666667, 0.54166667, 0.79661017, 1.        , 1.        ],\n",
       "       [0.66666667, 0.41666667, 0.71186441, 0.91666667, 1.        ],\n",
       "       [0.55555556, 0.20833333, 0.6779661 , 0.75      , 1.        ],\n",
       "       [0.61111111, 0.41666667, 0.71186441, 0.79166667, 1.        ],\n",
       "       [0.52777778, 0.58333333, 0.74576271, 0.91666667, 1.        ],\n",
       "       [0.44444444, 0.41666667, 0.69491525, 0.70833333, 1.        ]])"
      ]
     },
     "execution_count": 51,
     "metadata": {},
     "output_type": "execute_result"
    }
   ],
   "source": [
    "from sklearn import preprocessing\n",
    "\n",
    "data_scaler = preprocessing.MinMaxScaler(feature_range=(0,1))\n",
    "data_rescaled = data_scaler.fit_transform(data)\n",
    "data_rescaled \n"
   ]
  },
  {
   "cell_type": "code",
   "execution_count": 53,
   "metadata": {},
   "outputs": [
    {
     "data": {
      "text/plain": [
       "array([[0.07056264, 0.09254209, 0.02754801, 0.01150242, 0.        ],\n",
       "       [0.06779548, 0.07932179, 0.02754801, 0.01150242, 0.        ],\n",
       "       [0.06502832, 0.08460991, 0.02558029, 0.01150242, 0.        ],\n",
       "       [0.06364474, 0.08196585, 0.02951572, 0.01150242, 0.        ],\n",
       "       [0.06917906, 0.09518615, 0.02754801, 0.01150242, 0.        ],\n",
       "       [0.07471338, 0.10311833, 0.03345115, 0.02300485, 0.        ],\n",
       "       [0.06364474, 0.08989803, 0.02754801, 0.01725364, 0.        ],\n",
       "       [0.06917906, 0.08989803, 0.02951572, 0.01150242, 0.        ],\n",
       "       [0.06087757, 0.07667773, 0.02754801, 0.01150242, 0.        ],\n",
       "       [0.06779548, 0.08196585, 0.02951572, 0.00575121, 0.        ],\n",
       "       [0.07471338, 0.09783021, 0.02951572, 0.01150242, 0.        ],\n",
       "       [0.0664119 , 0.08989803, 0.03148344, 0.01150242, 0.        ],\n",
       "       [0.0664119 , 0.07932179, 0.02754801, 0.00575121, 0.        ],\n",
       "       [0.05949399, 0.07932179, 0.02164486, 0.00575121, 0.        ],\n",
       "       [0.08024771, 0.10576239, 0.02361258, 0.01150242, 0.        ],\n",
       "       [0.07886413, 0.11633862, 0.02951572, 0.02300485, 0.        ],\n",
       "       [0.07471338, 0.10311833, 0.02558029, 0.02300485, 0.        ],\n",
       "       [0.07056264, 0.09254209, 0.02754801, 0.01725364, 0.        ],\n",
       "       [0.07886413, 0.10047427, 0.03345115, 0.01725364, 0.        ],\n",
       "       [0.07056264, 0.10047427, 0.02951572, 0.01725364, 0.        ],\n",
       "       [0.07471338, 0.08989803, 0.03345115, 0.01150242, 0.        ],\n",
       "       [0.07056264, 0.09783021, 0.02951572, 0.02300485, 0.        ],\n",
       "       [0.06364474, 0.09518615, 0.01967715, 0.01150242, 0.        ],\n",
       "       [0.07056264, 0.08725397, 0.03345115, 0.02875606, 0.        ],\n",
       "       [0.0664119 , 0.08989803, 0.03738658, 0.01150242, 0.        ],\n",
       "       [0.06917906, 0.07932179, 0.03148344, 0.01150242, 0.        ],\n",
       "       [0.06917906, 0.08989803, 0.03148344, 0.02300485, 0.        ],\n",
       "       [0.07194622, 0.09254209, 0.02951572, 0.01150242, 0.        ],\n",
       "       [0.07194622, 0.08989803, 0.02754801, 0.01150242, 0.        ],\n",
       "       [0.06502832, 0.08460991, 0.03148344, 0.01150242, 0.        ],\n",
       "       [0.0664119 , 0.08196585, 0.03148344, 0.01150242, 0.        ],\n",
       "       [0.07471338, 0.08989803, 0.02951572, 0.02300485, 0.        ],\n",
       "       [0.07194622, 0.10840645, 0.02951572, 0.00575121, 0.        ],\n",
       "       [0.07609697, 0.11105051, 0.02754801, 0.01150242, 0.        ],\n",
       "       [0.06779548, 0.08196585, 0.02951572, 0.01150242, 0.        ],\n",
       "       [0.06917906, 0.08460991, 0.02361258, 0.01150242, 0.        ],\n",
       "       [0.07609697, 0.09254209, 0.02558029, 0.01150242, 0.        ],\n",
       "       [0.06779548, 0.09518615, 0.02754801, 0.00575121, 0.        ],\n",
       "       [0.06087757, 0.07932179, 0.02558029, 0.01150242, 0.        ],\n",
       "       [0.07056264, 0.08989803, 0.02951572, 0.01150242, 0.        ],\n",
       "       [0.06917906, 0.09254209, 0.02558029, 0.01725364, 0.        ],\n",
       "       [0.06226115, 0.06081337, 0.02558029, 0.01725364, 0.        ],\n",
       "       [0.06087757, 0.08460991, 0.02558029, 0.01150242, 0.        ],\n",
       "       [0.06917906, 0.09254209, 0.03148344, 0.03450727, 0.        ],\n",
       "       [0.07056264, 0.10047427, 0.03738658, 0.02300485, 0.        ],\n",
       "       [0.0664119 , 0.07932179, 0.02754801, 0.01725364, 0.        ],\n",
       "       [0.07056264, 0.10047427, 0.03148344, 0.01150242, 0.        ],\n",
       "       [0.06364474, 0.08460991, 0.02754801, 0.01150242, 0.        ],\n",
       "       [0.0733298 , 0.09783021, 0.02951572, 0.01150242, 0.        ],\n",
       "       [0.06917906, 0.08725397, 0.02754801, 0.01150242, 0.        ],\n",
       "       [0.09685068, 0.08460991, 0.0924826 , 0.08051697, 0.06324555],\n",
       "       [0.0885492 , 0.08460991, 0.08854717, 0.08626818, 0.06324555],\n",
       "       [0.0954671 , 0.08196585, 0.09641803, 0.08626818, 0.06324555],\n",
       "       [0.07609697, 0.06081337, 0.0787086 , 0.07476576, 0.06324555],\n",
       "       [0.08993278, 0.07403367, 0.09051489, 0.08626818, 0.06324555],\n",
       "       [0.07886413, 0.07403367, 0.08854717, 0.07476576, 0.06324555],\n",
       "       [0.08716562, 0.08725397, 0.0924826 , 0.09201939, 0.06324555],\n",
       "       [0.06779548, 0.06345743, 0.06493459, 0.05751212, 0.06324555],\n",
       "       [0.09131636, 0.07667773, 0.09051489, 0.07476576, 0.06324555],\n",
       "       [0.07194622, 0.07138961, 0.07674088, 0.08051697, 0.06324555],\n",
       "       [0.06917906, 0.05288119, 0.06887002, 0.05751212, 0.06324555],\n",
       "       [0.08163129, 0.07932179, 0.08264403, 0.08626818, 0.06324555],\n",
       "       [0.08301487, 0.05816931, 0.0787086 , 0.05751212, 0.06324555],\n",
       "       [0.08439845, 0.07667773, 0.0924826 , 0.08051697, 0.06324555],\n",
       "       [0.07748055, 0.07667773, 0.07083774, 0.07476576, 0.06324555],\n",
       "       [0.09269994, 0.08196585, 0.08657946, 0.08051697, 0.06324555],\n",
       "       [0.07748055, 0.07932179, 0.08854717, 0.08626818, 0.06324555],\n",
       "       [0.08024771, 0.07138961, 0.08067631, 0.05751212, 0.06324555],\n",
       "       [0.08578203, 0.05816931, 0.08854717, 0.08626818, 0.06324555],\n",
       "       [0.07748055, 0.06610149, 0.07674088, 0.06326333, 0.06324555],\n",
       "       [0.08163129, 0.08460991, 0.09445032, 0.10352182, 0.06324555],\n",
       "       [0.08439845, 0.07403367, 0.0787086 , 0.07476576, 0.06324555],\n",
       "       [0.08716562, 0.06610149, 0.09641803, 0.08626818, 0.06324555],\n",
       "       [0.08439845, 0.07403367, 0.0924826 , 0.06901454, 0.06324555],\n",
       "       [0.0885492 , 0.07667773, 0.08461174, 0.07476576, 0.06324555],\n",
       "       [0.09131636, 0.07932179, 0.08657946, 0.08051697, 0.06324555],\n",
       "       [0.09408352, 0.07403367, 0.09445032, 0.08051697, 0.06324555],\n",
       "       [0.09269994, 0.07932179, 0.09838575, 0.0977706 , 0.06324555],\n",
       "       [0.08301487, 0.07667773, 0.08854717, 0.08626818, 0.06324555],\n",
       "       [0.07886413, 0.06874555, 0.06887002, 0.05751212, 0.06324555],\n",
       "       [0.07609697, 0.06345743, 0.07477317, 0.06326333, 0.06324555],\n",
       "       [0.07609697, 0.06345743, 0.07280545, 0.05751212, 0.06324555],\n",
       "       [0.08024771, 0.07138961, 0.07674088, 0.06901454, 0.06324555],\n",
       "       [0.08301487, 0.07138961, 0.10035346, 0.09201939, 0.06324555],\n",
       "       [0.07471338, 0.07932179, 0.08854717, 0.08626818, 0.06324555],\n",
       "       [0.08301487, 0.08989803, 0.08854717, 0.09201939, 0.06324555],\n",
       "       [0.09269994, 0.08196585, 0.0924826 , 0.08626818, 0.06324555],\n",
       "       [0.08716562, 0.06081337, 0.08657946, 0.07476576, 0.06324555],\n",
       "       [0.07748055, 0.07932179, 0.08067631, 0.07476576, 0.06324555],\n",
       "       [0.07609697, 0.06610149, 0.0787086 , 0.07476576, 0.06324555],\n",
       "       [0.07609697, 0.06874555, 0.08657946, 0.06901454, 0.06324555],\n",
       "       [0.08439845, 0.07932179, 0.09051489, 0.08051697, 0.06324555],\n",
       "       [0.08024771, 0.06874555, 0.0787086 , 0.06901454, 0.06324555],\n",
       "       [0.06917906, 0.06081337, 0.06493459, 0.05751212, 0.06324555],\n",
       "       [0.07748055, 0.07138961, 0.08264403, 0.07476576, 0.06324555],\n",
       "       [0.07886413, 0.07932179, 0.08264403, 0.06901454, 0.06324555],\n",
       "       [0.07886413, 0.07667773, 0.08264403, 0.07476576, 0.06324555],\n",
       "       [0.08578203, 0.07667773, 0.08461174, 0.07476576, 0.06324555],\n",
       "       [0.07056264, 0.06610149, 0.05903145, 0.06326333, 0.06324555],\n",
       "       [0.07886413, 0.07403367, 0.08067631, 0.07476576, 0.06324555],\n",
       "       [0.08716562, 0.08725397, 0.1180629 , 0.1437803 , 0.12649111],\n",
       "       [0.08024771, 0.07138961, 0.10035346, 0.10927303, 0.12649111],\n",
       "       [0.09823426, 0.07932179, 0.11609518, 0.12077545, 0.12649111],\n",
       "       [0.08716562, 0.07667773, 0.11019204, 0.10352182, 0.12649111],\n",
       "       [0.08993278, 0.07932179, 0.11412747, 0.12652666, 0.12649111],\n",
       "       [0.10515217, 0.07932179, 0.12986918, 0.12077545, 0.12649111],\n",
       "       [0.06779548, 0.06610149, 0.08854717, 0.0977706 , 0.12649111],\n",
       "       [0.10100143, 0.07667773, 0.12396604, 0.10352182, 0.12649111],\n",
       "       [0.09269994, 0.06610149, 0.11412747, 0.10352182, 0.12649111],\n",
       "       [0.09961785, 0.09518615, 0.12003061, 0.1437803 , 0.12649111],\n",
       "       [0.08993278, 0.08460991, 0.10035346, 0.11502424, 0.12649111],\n",
       "       [0.0885492 , 0.07138961, 0.10428889, 0.10927303, 0.12649111],\n",
       "       [0.09408352, 0.07932179, 0.10822432, 0.12077545, 0.12649111],\n",
       "       [0.07886413, 0.06610149, 0.09838575, 0.11502424, 0.12649111],\n",
       "       [0.08024771, 0.07403367, 0.10035346, 0.13802909, 0.12649111],\n",
       "       [0.0885492 , 0.08460991, 0.10428889, 0.13227788, 0.12649111],\n",
       "       [0.08993278, 0.07932179, 0.10822432, 0.10352182, 0.12649111],\n",
       "       [0.10653575, 0.10047427, 0.1318369 , 0.12652666, 0.12649111],\n",
       "       [0.10653575, 0.06874555, 0.13577233, 0.13227788, 0.12649111],\n",
       "       [0.08301487, 0.05816931, 0.09838575, 0.08626818, 0.12649111],\n",
       "       [0.0954671 , 0.08460991, 0.11215975, 0.13227788, 0.12649111],\n",
       "       [0.07748055, 0.07403367, 0.09641803, 0.11502424, 0.12649111],\n",
       "       [0.10653575, 0.07403367, 0.1318369 , 0.11502424, 0.12649111],\n",
       "       [0.08716562, 0.07138961, 0.09641803, 0.10352182, 0.12649111],\n",
       "       [0.09269994, 0.08725397, 0.11215975, 0.12077545, 0.12649111],\n",
       "       [0.09961785, 0.08460991, 0.1180629 , 0.10352182, 0.12649111],\n",
       "       [0.08578203, 0.07403367, 0.09445032, 0.10352182, 0.12649111],\n",
       "       [0.08439845, 0.07932179, 0.09641803, 0.10352182, 0.12649111],\n",
       "       [0.0885492 , 0.07403367, 0.11019204, 0.12077545, 0.12649111],\n",
       "       [0.09961785, 0.07932179, 0.11412747, 0.09201939, 0.12649111],\n",
       "       [0.10238501, 0.07403367, 0.12003061, 0.10927303, 0.12649111],\n",
       "       [0.10930291, 0.10047427, 0.12593375, 0.11502424, 0.12649111],\n",
       "       [0.0885492 , 0.07403367, 0.11019204, 0.12652666, 0.12649111],\n",
       "       [0.08716562, 0.07403367, 0.10035346, 0.08626818, 0.12649111],\n",
       "       [0.08439845, 0.06874555, 0.11019204, 0.08051697, 0.12649111],\n",
       "       [0.10653575, 0.07932179, 0.12003061, 0.13227788, 0.12649111],\n",
       "       [0.08716562, 0.08989803, 0.11019204, 0.13802909, 0.12649111],\n",
       "       [0.0885492 , 0.08196585, 0.10822432, 0.10352182, 0.12649111],\n",
       "       [0.08301487, 0.07932179, 0.09445032, 0.10352182, 0.12649111],\n",
       "       [0.0954671 , 0.08196585, 0.10625661, 0.12077545, 0.12649111],\n",
       "       [0.09269994, 0.08196585, 0.11019204, 0.13802909, 0.12649111],\n",
       "       [0.0954671 , 0.08196585, 0.10035346, 0.13227788, 0.12649111],\n",
       "       [0.08024771, 0.07138961, 0.10035346, 0.10927303, 0.12649111],\n",
       "       [0.09408352, 0.08460991, 0.11609518, 0.13227788, 0.12649111],\n",
       "       [0.09269994, 0.08725397, 0.11215975, 0.1437803 , 0.12649111],\n",
       "       [0.09269994, 0.07932179, 0.10232118, 0.13227788, 0.12649111],\n",
       "       [0.08716562, 0.06610149, 0.09838575, 0.10927303, 0.12649111],\n",
       "       [0.08993278, 0.07932179, 0.10232118, 0.11502424, 0.12649111],\n",
       "       [0.08578203, 0.08989803, 0.10625661, 0.13227788, 0.12649111],\n",
       "       [0.08163129, 0.07932179, 0.10035346, 0.10352182, 0.12649111]])"
      ]
     },
     "execution_count": 53,
     "metadata": {},
     "output_type": "execute_result"
    }
   ],
   "source": [
    "from sklearn.preprocessing import normalize\n",
    "ardata=normalize(data,norm='l2',axis=0)\n",
    "ardata"
   ]
  },
  {
   "cell_type": "markdown",
   "metadata": {},
   "source": [
    "## Machine Learning - Data Feature Selection\n"
   ]
  },
  {
   "cell_type": "code",
   "execution_count": 67,
   "metadata": {},
   "outputs": [
    {
     "data": {
      "text/plain": [
       "(150, 3)"
      ]
     },
     "execution_count": 67,
     "metadata": {},
     "output_type": "execute_result"
    }
   ],
   "source": [
    "from sklearn.feature_selection import SelectKBest\n",
    "from sklearn.feature_selection import chi2\n",
    "\n",
    "X=data.values[:,0:3]\n",
    "Y=data.values[:,4]\n",
    "X.shape"
   ]
  },
  {
   "cell_type": "markdown",
   "metadata": {},
   "source": [
    "## naive bayes"
   ]
  },
  {
   "cell_type": "code",
   "execution_count": 77,
   "metadata": {},
   "outputs": [
    {
     "name": "stdout",
     "output_type": "stream",
     "text": [
      "['malignant' 'benign']\n"
     ]
    }
   ],
   "source": [
    "from sklearn.datasets import load_breast_cancer\n",
    "data = load_breast_cancer()\n",
    "label_names = data['target_names']\n",
    "labels = data['target']\n",
    "feature_names = data['feature_names']\n",
    "features = data['data']\n",
    "print(label_names)\n"
   ]
  },
  {
   "cell_type": "code",
   "execution_count": 79,
   "metadata": {},
   "outputs": [],
   "source": [
    "from sklearn.model_selection import train_test_split\n",
    "train, test, train_labels, test_labels = train_test_split(features,labels,test_size = 0.40, random_state = 42)"
   ]
  },
  {
   "cell_type": "code",
   "execution_count": 81,
   "metadata": {},
   "outputs": [],
   "source": [
    "from sklearn.naive_bayes import GaussianNB\n",
    "\n",
    "gnb = GaussianNB()\n",
    "model = gnb.fit(train, train_labels)\n"
   ]
  },
  {
   "cell_type": "code",
   "execution_count": 82,
   "metadata": {},
   "outputs": [
    {
     "name": "stdout",
     "output_type": "stream",
     "text": [
      "[1 0 0 1 1 0 0 0 1 1 1 0 1 0 1 0 1 1 1 0 1 1 0 1 1 1 1 1 1 0 1 1 1 1 1 1 0\n",
      " 1 0 1 1 0 1 1 1 1 1 1 1 1 0 0 1 1 1 1 1 0 0 1 1 0 0 1 1 1 0 0 1 1 0 0 1 0\n",
      " 1 1 1 1 1 1 0 1 1 0 0 0 0 0 1 1 1 1 1 1 1 1 0 0 1 0 0 1 0 0 1 1 1 0 1 1 0\n",
      " 1 1 0 0 0 1 1 1 0 0 1 1 0 1 0 0 1 1 0 0 0 1 1 1 0 1 1 0 0 1 0 1 1 0 1 0 0\n",
      " 1 1 1 1 1 1 1 0 0 1 1 1 1 1 1 1 1 1 1 1 1 0 1 1 1 0 1 1 0 1 1 1 1 1 1 0 0\n",
      " 0 1 1 0 1 0 1 1 1 1 0 1 1 0 1 1 1 0 1 0 0 1 1 1 1 1 1 1 1 0 1 1 1 1 1 0 1\n",
      " 0 0 1 1 0 1]\n"
     ]
    }
   ],
   "source": [
    "preds = gnb.predict(test)\n",
    "print(preds)"
   ]
  },
  {
   "cell_type": "code",
   "execution_count": 83,
   "metadata": {},
   "outputs": [
    {
     "name": "stdout",
     "output_type": "stream",
     "text": [
      "0.9517543859649122\n"
     ]
    }
   ],
   "source": [
    "from sklearn.metrics import accuracy_score\n",
    "print(accuracy_score(test_labels,preds))\n"
   ]
  },
  {
   "cell_type": "code",
   "execution_count": 86,
   "metadata": {},
   "outputs": [
    {
     "name": "stdout",
     "output_type": "stream",
     "text": [
      "ACC=0.9517543859649122 \n",
      " MAE  =0.04824561403508772 \n",
      " confusion_matrix=\n",
      "[[ 73   7]\n",
      " [  4 144]] \n",
      " classification_report=\n",
      "              precision    recall  f1-score   support\n",
      "\n",
      "           0       0.95      0.91      0.93        80\n",
      "           1       0.95      0.97      0.96       148\n",
      "\n",
      "    accuracy                           0.95       228\n",
      "   macro avg       0.95      0.94      0.95       228\n",
      "weighted avg       0.95      0.95      0.95       228\n",
      "\n"
     ]
    }
   ],
   "source": [
    "from sklearn.metrics import accuracy_score,mean_squared_error,confusion_matrix,classification_report\n",
    "\n",
    "ACC=accuracy_score(test_labels,preds)\n",
    "MAE=mean_squared_error(test_labels,preds)\n",
    "CM=confusion_matrix(test_labels,preds)\n",
    "CR=classification_report(test_labels,preds)\n",
    "print('ACC={} \\n MAE  ={} \\n confusion_matrix=\\n{} \\n classification_report=\\n{}'.format(ACC,MAE,CM,CR))\n"
   ]
  },
  {
   "cell_type": "markdown",
   "metadata": {},
   "source": [
    "## Decision Tree"
   ]
  },
  {
   "cell_type": "code",
   "execution_count": 89,
   "metadata": {},
   "outputs": [
    {
     "data": {
      "text/html": [
       "<div>\n",
       "<style scoped>\n",
       "    .dataframe tbody tr th:only-of-type {\n",
       "        vertical-align: middle;\n",
       "    }\n",
       "\n",
       "    .dataframe tbody tr th {\n",
       "        vertical-align: top;\n",
       "    }\n",
       "\n",
       "    .dataframe thead th {\n",
       "        text-align: right;\n",
       "    }\n",
       "</style>\n",
       "<table border=\"1\" class=\"dataframe\">\n",
       "  <thead>\n",
       "    <tr style=\"text-align: right;\">\n",
       "      <th></th>\n",
       "      <th>sepal.length</th>\n",
       "      <th>sepal.width</th>\n",
       "      <th>petal.length</th>\n",
       "      <th>petal.width</th>\n",
       "      <th>variety</th>\n",
       "    </tr>\n",
       "  </thead>\n",
       "  <tbody>\n",
       "    <tr>\n",
       "      <th>0</th>\n",
       "      <td>5.1</td>\n",
       "      <td>3.5</td>\n",
       "      <td>1.4</td>\n",
       "      <td>0.2</td>\n",
       "      <td>Setosa</td>\n",
       "    </tr>\n",
       "    <tr>\n",
       "      <th>1</th>\n",
       "      <td>4.9</td>\n",
       "      <td>3.0</td>\n",
       "      <td>1.4</td>\n",
       "      <td>0.2</td>\n",
       "      <td>Setosa</td>\n",
       "    </tr>\n",
       "    <tr>\n",
       "      <th>2</th>\n",
       "      <td>4.7</td>\n",
       "      <td>3.2</td>\n",
       "      <td>1.3</td>\n",
       "      <td>0.2</td>\n",
       "      <td>Setosa</td>\n",
       "    </tr>\n",
       "    <tr>\n",
       "      <th>3</th>\n",
       "      <td>4.6</td>\n",
       "      <td>3.1</td>\n",
       "      <td>1.5</td>\n",
       "      <td>0.2</td>\n",
       "      <td>Setosa</td>\n",
       "    </tr>\n",
       "    <tr>\n",
       "      <th>4</th>\n",
       "      <td>5.0</td>\n",
       "      <td>3.6</td>\n",
       "      <td>1.4</td>\n",
       "      <td>0.2</td>\n",
       "      <td>Setosa</td>\n",
       "    </tr>\n",
       "  </tbody>\n",
       "</table>\n",
       "</div>"
      ],
      "text/plain": [
       "   sepal.length  sepal.width  petal.length  petal.width variety\n",
       "0           5.1          3.5           1.4          0.2  Setosa\n",
       "1           4.9          3.0           1.4          0.2  Setosa\n",
       "2           4.7          3.2           1.3          0.2  Setosa\n",
       "3           4.6          3.1           1.5          0.2  Setosa\n",
       "4           5.0          3.6           1.4          0.2  Setosa"
      ]
     },
     "execution_count": 89,
     "metadata": {},
     "output_type": "execute_result"
    }
   ],
   "source": [
    "import pandas as pd\n",
    "from sklearn.tree import DecisionTreeClassifier\n",
    "from sklearn.model_selection import train_test_split\n",
    "data = pd.read_csv(r\"iris.csv\")\n",
    "data.head()"
   ]
  },
  {
   "cell_type": "code",
   "execution_count": 90,
   "metadata": {},
   "outputs": [
    {
     "data": {
      "text/html": [
       "<div>\n",
       "<style scoped>\n",
       "    .dataframe tbody tr th:only-of-type {\n",
       "        vertical-align: middle;\n",
       "    }\n",
       "\n",
       "    .dataframe tbody tr th {\n",
       "        vertical-align: top;\n",
       "    }\n",
       "\n",
       "    .dataframe thead th {\n",
       "        text-align: right;\n",
       "    }\n",
       "</style>\n",
       "<table border=\"1\" class=\"dataframe\">\n",
       "  <thead>\n",
       "    <tr style=\"text-align: right;\">\n",
       "      <th></th>\n",
       "      <th>sepal.length</th>\n",
       "      <th>sepal.width</th>\n",
       "      <th>petal.length</th>\n",
       "      <th>petal.width</th>\n",
       "      <th>variety</th>\n",
       "    </tr>\n",
       "  </thead>\n",
       "  <tbody>\n",
       "    <tr>\n",
       "      <th>0</th>\n",
       "      <td>5.1</td>\n",
       "      <td>3.5</td>\n",
       "      <td>1.4</td>\n",
       "      <td>0.2</td>\n",
       "      <td>0</td>\n",
       "    </tr>\n",
       "    <tr>\n",
       "      <th>1</th>\n",
       "      <td>4.9</td>\n",
       "      <td>3.0</td>\n",
       "      <td>1.4</td>\n",
       "      <td>0.2</td>\n",
       "      <td>0</td>\n",
       "    </tr>\n",
       "    <tr>\n",
       "      <th>2</th>\n",
       "      <td>4.7</td>\n",
       "      <td>3.2</td>\n",
       "      <td>1.3</td>\n",
       "      <td>0.2</td>\n",
       "      <td>0</td>\n",
       "    </tr>\n",
       "    <tr>\n",
       "      <th>3</th>\n",
       "      <td>4.6</td>\n",
       "      <td>3.1</td>\n",
       "      <td>1.5</td>\n",
       "      <td>0.2</td>\n",
       "      <td>0</td>\n",
       "    </tr>\n",
       "    <tr>\n",
       "      <th>4</th>\n",
       "      <td>5.0</td>\n",
       "      <td>3.6</td>\n",
       "      <td>1.4</td>\n",
       "      <td>0.2</td>\n",
       "      <td>0</td>\n",
       "    </tr>\n",
       "    <tr>\n",
       "      <th>...</th>\n",
       "      <td>...</td>\n",
       "      <td>...</td>\n",
       "      <td>...</td>\n",
       "      <td>...</td>\n",
       "      <td>...</td>\n",
       "    </tr>\n",
       "    <tr>\n",
       "      <th>145</th>\n",
       "      <td>6.7</td>\n",
       "      <td>3.0</td>\n",
       "      <td>5.2</td>\n",
       "      <td>2.3</td>\n",
       "      <td>2</td>\n",
       "    </tr>\n",
       "    <tr>\n",
       "      <th>146</th>\n",
       "      <td>6.3</td>\n",
       "      <td>2.5</td>\n",
       "      <td>5.0</td>\n",
       "      <td>1.9</td>\n",
       "      <td>2</td>\n",
       "    </tr>\n",
       "    <tr>\n",
       "      <th>147</th>\n",
       "      <td>6.5</td>\n",
       "      <td>3.0</td>\n",
       "      <td>5.2</td>\n",
       "      <td>2.0</td>\n",
       "      <td>2</td>\n",
       "    </tr>\n",
       "    <tr>\n",
       "      <th>148</th>\n",
       "      <td>6.2</td>\n",
       "      <td>3.4</td>\n",
       "      <td>5.4</td>\n",
       "      <td>2.3</td>\n",
       "      <td>2</td>\n",
       "    </tr>\n",
       "    <tr>\n",
       "      <th>149</th>\n",
       "      <td>5.9</td>\n",
       "      <td>3.0</td>\n",
       "      <td>5.1</td>\n",
       "      <td>1.8</td>\n",
       "      <td>2</td>\n",
       "    </tr>\n",
       "  </tbody>\n",
       "</table>\n",
       "<p>150 rows × 5 columns</p>\n",
       "</div>"
      ],
      "text/plain": [
       "     sepal.length  sepal.width  petal.length  petal.width  variety\n",
       "0             5.1          3.5           1.4          0.2        0\n",
       "1             4.9          3.0           1.4          0.2        0\n",
       "2             4.7          3.2           1.3          0.2        0\n",
       "3             4.6          3.1           1.5          0.2        0\n",
       "4             5.0          3.6           1.4          0.2        0\n",
       "..            ...          ...           ...          ...      ...\n",
       "145           6.7          3.0           5.2          2.3        2\n",
       "146           6.3          2.5           5.0          1.9        2\n",
       "147           6.5          3.0           5.2          2.0        2\n",
       "148           6.2          3.4           5.4          2.3        2\n",
       "149           5.9          3.0           5.1          1.8        2\n",
       "\n",
       "[150 rows x 5 columns]"
      ]
     },
     "execution_count": 90,
     "metadata": {},
     "output_type": "execute_result"
    }
   ],
   "source": [
    "from sklearn.preprocessing import LabelEncoder\n",
    "label_encoder= LabelEncoder()\n",
    "data['variety'] = label_encoder.fit_transform(data['variety']) #string labels to int lables\n",
    "data"
   ]
  },
  {
   "cell_type": "code",
   "execution_count": 91,
   "metadata": {},
   "outputs": [
    {
     "data": {
      "text/plain": [
       "(150, 3)"
      ]
     },
     "execution_count": 91,
     "metadata": {},
     "output_type": "execute_result"
    }
   ],
   "source": [
    "X=data.values[:,0:3]\n",
    "Y=data.values[:,4]\n",
    "X.shape"
   ]
  },
  {
   "cell_type": "code",
   "execution_count": 92,
   "metadata": {},
   "outputs": [],
   "source": [
    "X_train, X_test, y_train, y_test = train_test_split(X, y, test_size = 0.3, random_state = 1)\n"
   ]
  },
  {
   "cell_type": "code",
   "execution_count": 93,
   "metadata": {},
   "outputs": [],
   "source": [
    "clf = DecisionTreeClassifier()\n",
    "clf = clf.fit(X_train,y_train)"
   ]
  },
  {
   "cell_type": "code",
   "execution_count": 94,
   "metadata": {},
   "outputs": [],
   "source": [
    "y_pred = clf.predict(X_test)\n"
   ]
  },
  {
   "cell_type": "code",
   "execution_count": 95,
   "metadata": {},
   "outputs": [
    {
     "name": "stdout",
     "output_type": "stream",
     "text": [
      "Confusion Matrix:\n",
      "[[14  0  0]\n",
      " [ 0 17  1]\n",
      " [ 0  1 12]]\n",
      "Classification Report:\n",
      "              precision    recall  f1-score   support\n",
      "\n",
      "           0       1.00      1.00      1.00        14\n",
      "           1       0.94      0.94      0.94        18\n",
      "           2       0.92      0.92      0.92        13\n",
      "\n",
      "    accuracy                           0.96        45\n",
      "   macro avg       0.96      0.96      0.96        45\n",
      "weighted avg       0.96      0.96      0.96        45\n",
      "\n",
      "Accuracy: 0.9555555555555556\n"
     ]
    }
   ],
   "source": [
    "from sklearn.metrics import classification_report, confusion_matrix, accuracy_score\n",
    "result = confusion_matrix(y_test, y_pred)\n",
    "print(\"Confusion Matrix:\")\n",
    "print(result)\n",
    "result1 = classification_report(y_test, y_pred)\n",
    "print(\"Classification Report:\",)\n",
    "print (result1)\n",
    "result2 = accuracy_score(y_test,y_pred)\n",
    "print(\"Accuracy:\",result2)"
   ]
  },
  {
   "cell_type": "markdown",
   "metadata": {},
   "source": [
    "## Random Forest"
   ]
  },
  {
   "cell_type": "code",
   "execution_count": 98,
   "metadata": {},
   "outputs": [
    {
     "data": {
      "text/html": [
       "<div>\n",
       "<style scoped>\n",
       "    .dataframe tbody tr th:only-of-type {\n",
       "        vertical-align: middle;\n",
       "    }\n",
       "\n",
       "    .dataframe tbody tr th {\n",
       "        vertical-align: top;\n",
       "    }\n",
       "\n",
       "    .dataframe thead th {\n",
       "        text-align: right;\n",
       "    }\n",
       "</style>\n",
       "<table border=\"1\" class=\"dataframe\">\n",
       "  <thead>\n",
       "    <tr style=\"text-align: right;\">\n",
       "      <th></th>\n",
       "      <th>sepal.length</th>\n",
       "      <th>sepal.width</th>\n",
       "      <th>petal.length</th>\n",
       "      <th>petal.width</th>\n",
       "      <th>variety</th>\n",
       "    </tr>\n",
       "  </thead>\n",
       "  <tbody>\n",
       "    <tr>\n",
       "      <th>0</th>\n",
       "      <td>5.1</td>\n",
       "      <td>3.5</td>\n",
       "      <td>1.4</td>\n",
       "      <td>0.2</td>\n",
       "      <td>Setosa</td>\n",
       "    </tr>\n",
       "    <tr>\n",
       "      <th>1</th>\n",
       "      <td>4.9</td>\n",
       "      <td>3.0</td>\n",
       "      <td>1.4</td>\n",
       "      <td>0.2</td>\n",
       "      <td>Setosa</td>\n",
       "    </tr>\n",
       "    <tr>\n",
       "      <th>2</th>\n",
       "      <td>4.7</td>\n",
       "      <td>3.2</td>\n",
       "      <td>1.3</td>\n",
       "      <td>0.2</td>\n",
       "      <td>Setosa</td>\n",
       "    </tr>\n",
       "    <tr>\n",
       "      <th>3</th>\n",
       "      <td>4.6</td>\n",
       "      <td>3.1</td>\n",
       "      <td>1.5</td>\n",
       "      <td>0.2</td>\n",
       "      <td>Setosa</td>\n",
       "    </tr>\n",
       "    <tr>\n",
       "      <th>4</th>\n",
       "      <td>5.0</td>\n",
       "      <td>3.6</td>\n",
       "      <td>1.4</td>\n",
       "      <td>0.2</td>\n",
       "      <td>Setosa</td>\n",
       "    </tr>\n",
       "  </tbody>\n",
       "</table>\n",
       "</div>"
      ],
      "text/plain": [
       "   sepal.length  sepal.width  petal.length  petal.width variety\n",
       "0           5.1          3.5           1.4          0.2  Setosa\n",
       "1           4.9          3.0           1.4          0.2  Setosa\n",
       "2           4.7          3.2           1.3          0.2  Setosa\n",
       "3           4.6          3.1           1.5          0.2  Setosa\n",
       "4           5.0          3.6           1.4          0.2  Setosa"
      ]
     },
     "execution_count": 98,
     "metadata": {},
     "output_type": "execute_result"
    }
   ],
   "source": [
    "dataset = pd.read_csv('iris.csv')\n",
    "dataset.head()"
   ]
  },
  {
   "cell_type": "code",
   "execution_count": 99,
   "metadata": {},
   "outputs": [],
   "source": [
    "X = dataset.iloc[:, :-1].values\n",
    "y = dataset.iloc[:, 4].values"
   ]
  },
  {
   "cell_type": "code",
   "execution_count": 100,
   "metadata": {},
   "outputs": [],
   "source": [
    "from sklearn.model_selection import train_test_split\n",
    "X_train, X_test, y_train, y_test = train_test_split(X, y, test_size = 0.30)"
   ]
  },
  {
   "cell_type": "code",
   "execution_count": 101,
   "metadata": {},
   "outputs": [
    {
     "data": {
      "text/plain": [
       "RandomForestClassifier(bootstrap=True, ccp_alpha=0.0, class_weight=None,\n",
       "                       criterion='gini', max_depth=None, max_features='auto',\n",
       "                       max_leaf_nodes=None, max_samples=None,\n",
       "                       min_impurity_decrease=0.0, min_impurity_split=None,\n",
       "                       min_samples_leaf=1, min_samples_split=2,\n",
       "                       min_weight_fraction_leaf=0.0, n_estimators=50,\n",
       "                       n_jobs=None, oob_score=False, random_state=None,\n",
       "                       verbose=0, warm_start=False)"
      ]
     },
     "execution_count": 101,
     "metadata": {},
     "output_type": "execute_result"
    }
   ],
   "source": [
    "from sklearn.ensemble import RandomForestClassifier\n",
    "classifier = RandomForestClassifier(n_estimators = 50)\n",
    "classifier.fit(X_train, y_train)"
   ]
  },
  {
   "cell_type": "code",
   "execution_count": 102,
   "metadata": {},
   "outputs": [],
   "source": [
    "y_pred = classifier.predict(X_test)"
   ]
  },
  {
   "cell_type": "code",
   "execution_count": 103,
   "metadata": {},
   "outputs": [
    {
     "name": "stdout",
     "output_type": "stream",
     "text": [
      "Confusion Matrix:\n",
      "[[17  0  0]\n",
      " [ 0 14  0]\n",
      " [ 0  1 13]]\n",
      "Classification Report:\n",
      "              precision    recall  f1-score   support\n",
      "\n",
      "      Setosa       1.00      1.00      1.00        17\n",
      "  Versicolor       0.93      1.00      0.97        14\n",
      "   Virginica       1.00      0.93      0.96        14\n",
      "\n",
      "    accuracy                           0.98        45\n",
      "   macro avg       0.98      0.98      0.98        45\n",
      "weighted avg       0.98      0.98      0.98        45\n",
      "\n",
      "Accuracy: 0.9777777777777777\n"
     ]
    }
   ],
   "source": [
    "from sklearn.metrics import classification_report, confusion_matrix, accuracy_score\n",
    "result = confusion_matrix(y_test, y_pred)\n",
    "print(\"Confusion Matrix:\")\n",
    "print(result)\n",
    "result1 = classification_report(y_test, y_pred)\n",
    "print(\"Classification Report:\",)\n",
    "print (result1)\n",
    "result2 = accuracy_score(y_test,y_pred)\n",
    "print(\"Accuracy:\",result2)"
   ]
  },
  {
   "cell_type": "code",
   "execution_count": null,
   "metadata": {},
   "outputs": [],
   "source": []
  },
  {
   "cell_type": "code",
   "execution_count": null,
   "metadata": {},
   "outputs": [],
   "source": []
  },
  {
   "cell_type": "markdown",
   "metadata": {},
   "source": [
    "## Multiple Linear Regression"
   ]
  },
  {
   "cell_type": "code",
   "execution_count": 104,
   "metadata": {},
   "outputs": [],
   "source": [
    "boston = datasets.load_boston(return_X_y = False)\n",
    "X = boston.data\n",
    "y = boston.target"
   ]
  },
  {
   "cell_type": "code",
   "execution_count": 105,
   "metadata": {},
   "outputs": [],
   "source": [
    "from sklearn.model_selection import train_test_split\n",
    "X_train, X_test, y_train, y_test = train_test_split(X, y, test_size = 0.7, random_state = 1)"
   ]
  },
  {
   "cell_type": "code",
   "execution_count": 107,
   "metadata": {},
   "outputs": [
    {
     "name": "stdout",
     "output_type": "stream",
     "text": [
      "Coefficients: \n",
      " [-1.16358797e-01  6.44549228e-02  1.65416147e-01  1.45101654e+00\n",
      " -1.77862563e+01  2.80392779e+00  4.61905315e-02 -1.13518865e+00\n",
      "  3.31725870e-01 -1.01196059e-02 -9.94812678e-01  9.18522056e-03\n",
      " -7.92395217e-01]\n",
      "Variance score: 0.7094540602303254\n"
     ]
    },
    {
     "data": {
      "image/png": "[encoded data removed]",
      "text/plain": [
       "<Figure size 432x288 with 1 Axes>"
      ]
     },
     "metadata": {},
     "output_type": "display_data"
    }
   ],
   "source": [
    "from sklearn import datasets, linear_model, metrics\n",
    "\n",
    "reg = linear_model.LinearRegression()\n",
    "reg.fit(X_train, y_train)\n",
    "print('Coefficients: \\n', reg.coef_)\n",
    "print('Variance score: {}'.format(reg.score(X_test, y_test)))\n",
    "plt.style.use('fivethirtyeight')\n",
    "plt.scatter(reg.predict(X_train), reg.predict(X_train) - y_train, color = \"green\", s = 10, label = 'Train data')\n",
    "plt.scatter(reg.predict(X_test), reg.predict(X_test) - y_test, color = \"blue\", s = 10, label = 'Test data')\n",
    "plt.hlines(y = 0, xmin = 0, xmax = 50, linewidth = 2)\n",
    "plt.legend(loc = 'upper right')\n",
    "plt.title(\"Residual errors\")\n",
    "plt.show()"
   ]
  },
  {
   "cell_type": "markdown",
   "metadata": {},
   "source": [
    "## Clustering K-Means Algorithm"
   ]
  },
  {
   "cell_type": "code",
   "execution_count": 109,
   "metadata": {},
   "outputs": [
    {
     "data": {
      "image/png": "[encoded data removed]",
      "text/plain": [
       "<Figure size 432x288 with 1 Axes>"
      ]
     },
     "metadata": {},
     "output_type": "display_data"
    }
   ],
   "source": [
    "from sklearn.cluster import KMeans\n",
    "\n",
    "from sklearn.datasets.samples_generator import make_blobs\n",
    "X, y_true = make_blobs(n_samples = 400, centers = 4, cluster_std = 0.60, random_state = 0)\n",
    "plt.scatter(X[:, 0], X[:, 1], s = 20);\n",
    "plt.show()"
   ]
  },
  {
   "cell_type": "code",
   "execution_count": 110,
   "metadata": {},
   "outputs": [],
   "source": [
    "kmeans = KMeans(n_clusters = 4)\n",
    "kmeans.fit(X)\n",
    "y_kmeans = kmeans.predict(X)"
   ]
  },
  {
   "cell_type": "code",
   "execution_count": 111,
   "metadata": {},
   "outputs": [
    {
     "data": {
      "image/png": "[encoded data removed]",
      "text/plain": [
       "<Figure size 432x288 with 1 Axes>"
      ]
     },
     "metadata": {},
     "output_type": "display_data"
    }
   ],
   "source": [
    "from sklearn.datasets.samples_generator import make_blobs\n",
    "X, y_true = make_blobs(n_samples = 400, centers = 4, cluster_std = 0.60, random_state = 0)\n",
    "plt.scatter(X[:, 0], X[:, 1], c = y_kmeans, s = 20, cmap = 'summer')\n",
    "centers = kmeans.cluster_centers_\n",
    "plt.scatter(centers[:, 0], centers[:, 1], c = 'blue', s = 100, alpha = 0.9);\n",
    "plt.show()"
   ]
  },
  {
   "cell_type": "markdown",
   "metadata": {},
   "source": [
    "## Clustering Mean Shift Algorithm"
   ]
  },
  {
   "cell_type": "code",
   "execution_count": 113,
   "metadata": {},
   "outputs": [
    {
     "data": {
      "image/png": "[encoded data removed]",
      "text/plain": [
       "<Figure size 432x288 with 1 Axes>"
      ]
     },
     "metadata": {},
     "output_type": "display_data"
    }
   ],
   "source": [
    "from sklearn.cluster import MeanShift\n",
    "from matplotlib import style\n",
    "\n",
    "style.use(\"ggplot\")\n",
    "from sklearn.datasets.samples_generator import make_blobs\n",
    "centers = [[3,3,3],[4,5,5],[3,10,10]]\n",
    "X, _ = make_blobs(n_samples = 700, centers = centers, cluster_std = 0.5)\n",
    "plt.scatter(X[:,0],X[:,1])\n",
    "plt.show()"
   ]
  },
  {
   "cell_type": "code",
   "execution_count": 114,
   "metadata": {},
   "outputs": [
    {
     "name": "stdout",
     "output_type": "stream",
     "text": [
      "[[3.94614014 4.97488029 4.99042739]\n",
      " [2.97951925 9.96089816 9.98799259]\n",
      " [2.94276663 3.02517423 2.98160349]]\n",
      "Estimated clusters: 3\n"
     ]
    },
    {
     "data": {
      "image/png": "[encoded data removed]",
      "text/plain": [
       "<Figure size 432x288 with 1 Axes>"
      ]
     },
     "metadata": {},
     "output_type": "display_data"
    }
   ],
   "source": [
    "ms = MeanShift()\n",
    "ms.fit(X)\n",
    "labels = ms.labels_\n",
    "cluster_centers = ms.cluster_centers_\n",
    "print(cluster_centers)\n",
    "n_clusters_ = len(np.unique(labels))\n",
    "print(\"Estimated clusters:\", n_clusters_)\n",
    "colors = 10*['r.','g.','b.','c.','k.','y.','m.']\n",
    "\n",
    "for i in range(len(X)):\n",
    "   plt.plot(X[i][0], X[i][1], colors[labels[i]], markersize = 3)\n",
    "plt.scatter(cluster_centers[:,0],cluster_centers[:,1],\n",
    "   marker = \".\",color = 'k', s = 20, linewidths = 5, zorder = 10)\n",
    "plt.show()"
   ]
  },
  {
   "cell_type": "markdown",
   "metadata": {},
   "source": [
    "## Hierarchical Clustering"
   ]
  },
  {
   "cell_type": "code",
   "execution_count": 115,
   "metadata": {},
   "outputs": [
    {
     "data": {
      "image/png": "[encoded data removed]",
      "text/plain": [
       "<Figure size 720x504 with 1 Axes>"
      ]
     },
     "metadata": {},
     "output_type": "display_data"
    }
   ],
   "source": [
    "X = np.array(\n",
    "   [[7,8],[12,20],[17,19],[26,15],[32,37],[87,75],[73,85], [62,80],[73,60],[87,96],])\n",
    "labels = range(1, 11)\n",
    "plt.figure(figsize = (10, 7))\n",
    "plt.subplots_adjust(bottom = 0.1)\n",
    "plt.scatter(X[:,0],X[:,1], label = 'True Position')\n",
    "for label, x, y in zip(labels, X[:, 0], X[:, 1]):\n",
    "   plt.annotate(\n",
    "      label,xy = (x, y), xytext = (-3, 3),textcoords = 'offset points', ha = 'right', va = 'bottom')\n",
    "plt.show()"
   ]
  },
  {
   "cell_type": "code",
   "execution_count": 116,
   "metadata": {},
   "outputs": [
    {
     "data": {
      "image/png": "[encoded data removed]",
      "text/plain": [
       "<Figure size 720x504 with 1 Axes>"
      ]
     },
     "metadata": {},
     "output_type": "display_data"
    }
   ],
   "source": [
    "from scipy.cluster.hierarchy import dendrogram, linkage\n",
    "from matplotlib import pyplot as plt\n",
    "linked = linkage(X, 'single')\n",
    "labelList = range(1, 11)\n",
    "plt.figure(figsize = (10, 7))\n",
    "dendrogram(linked, orientation = 'top',labels = labelList, \n",
    "   distance_sort ='descending',show_leaf_counts = True)\n",
    "plt.show()"
   ]
  },
  {
   "cell_type": "code",
   "execution_count": 118,
   "metadata": {},
   "outputs": [
    {
     "data": {
      "text/plain": [
       "<matplotlib.collections.PathCollection at 0x1f054384970>"
      ]
     },
     "execution_count": 118,
     "metadata": {},
     "output_type": "execute_result"
    },
    {
     "data": {
      "image/png": "[encoded data removed]",
      "text/plain": [
       "<Figure size 432x288 with 1 Axes>"
      ]
     },
     "metadata": {},
     "output_type": "display_data"
    }
   ],
   "source": [
    "from sklearn.cluster import AgglomerativeClustering\n",
    "cluster = AgglomerativeClustering(n_clusters = 2, affinity = 'euclidean', linkage = 'ward')\n",
    "cluster.fit_predict(X)\n",
    "plt.scatter(X[:,0],X[:,1], c = cluster.labels_, cmap = 'rainbow')\n"
   ]
  },
  {
   "cell_type": "markdown",
   "metadata": {},
   "source": [
    "## Finding Nearest Neighbors"
   ]
  },
  {
   "cell_type": "code",
   "execution_count": 120,
   "metadata": {},
   "outputs": [
    {
     "data": {
      "text/html": [
       "<div>\n",
       "<style scoped>\n",
       "    .dataframe tbody tr th:only-of-type {\n",
       "        vertical-align: middle;\n",
       "    }\n",
       "\n",
       "    .dataframe tbody tr th {\n",
       "        vertical-align: top;\n",
       "    }\n",
       "\n",
       "    .dataframe thead th {\n",
       "        text-align: right;\n",
       "    }\n",
       "</style>\n",
       "<table border=\"1\" class=\"dataframe\">\n",
       "  <thead>\n",
       "    <tr style=\"text-align: right;\">\n",
       "      <th></th>\n",
       "      <th>sepal.length</th>\n",
       "      <th>sepal.width</th>\n",
       "      <th>petal.length</th>\n",
       "      <th>petal.width</th>\n",
       "      <th>variety</th>\n",
       "    </tr>\n",
       "  </thead>\n",
       "  <tbody>\n",
       "    <tr>\n",
       "      <th>0</th>\n",
       "      <td>5.1</td>\n",
       "      <td>3.5</td>\n",
       "      <td>1.4</td>\n",
       "      <td>0.2</td>\n",
       "      <td>Setosa</td>\n",
       "    </tr>\n",
       "    <tr>\n",
       "      <th>1</th>\n",
       "      <td>4.9</td>\n",
       "      <td>3.0</td>\n",
       "      <td>1.4</td>\n",
       "      <td>0.2</td>\n",
       "      <td>Setosa</td>\n",
       "    </tr>\n",
       "    <tr>\n",
       "      <th>2</th>\n",
       "      <td>4.7</td>\n",
       "      <td>3.2</td>\n",
       "      <td>1.3</td>\n",
       "      <td>0.2</td>\n",
       "      <td>Setosa</td>\n",
       "    </tr>\n",
       "    <tr>\n",
       "      <th>3</th>\n",
       "      <td>4.6</td>\n",
       "      <td>3.1</td>\n",
       "      <td>1.5</td>\n",
       "      <td>0.2</td>\n",
       "      <td>Setosa</td>\n",
       "    </tr>\n",
       "    <tr>\n",
       "      <th>4</th>\n",
       "      <td>5.0</td>\n",
       "      <td>3.6</td>\n",
       "      <td>1.4</td>\n",
       "      <td>0.2</td>\n",
       "      <td>Setosa</td>\n",
       "    </tr>\n",
       "  </tbody>\n",
       "</table>\n",
       "</div>"
      ],
      "text/plain": [
       "   sepal.length  sepal.width  petal.length  petal.width variety\n",
       "0           5.1          3.5           1.4          0.2  Setosa\n",
       "1           4.9          3.0           1.4          0.2  Setosa\n",
       "2           4.7          3.2           1.3          0.2  Setosa\n",
       "3           4.6          3.1           1.5          0.2  Setosa\n",
       "4           5.0          3.6           1.4          0.2  Setosa"
      ]
     },
     "execution_count": 120,
     "metadata": {},
     "output_type": "execute_result"
    }
   ],
   "source": [
    "dataset = pd.read_csv('iris.csv')\n",
    "dataset.head()"
   ]
  },
  {
   "cell_type": "code",
   "execution_count": 121,
   "metadata": {},
   "outputs": [],
   "source": [
    "X = dataset.iloc[:, :-1].values\n",
    "y = dataset.iloc[:, 4].values"
   ]
  },
  {
   "cell_type": "code",
   "execution_count": 122,
   "metadata": {},
   "outputs": [],
   "source": [
    "from sklearn.model_selection import train_test_split\n",
    "X_train, X_test, y_train, y_test = train_test_split(X, y, test_size = 0.40)"
   ]
  },
  {
   "cell_type": "code",
   "execution_count": 123,
   "metadata": {},
   "outputs": [],
   "source": [
    "from sklearn.preprocessing import StandardScaler\n",
    "scaler = StandardScaler()\n",
    "scaler.fit(X_train)\n",
    "X_train = scaler.transform(X_train)\n",
    "X_test = scaler.transform(X_test)"
   ]
  },
  {
   "cell_type": "code",
   "execution_count": 124,
   "metadata": {},
   "outputs": [
    {
     "data": {
      "text/plain": [
       "KNeighborsClassifier(algorithm='auto', leaf_size=30, metric='minkowski',\n",
       "                     metric_params=None, n_jobs=None, n_neighbors=8, p=2,\n",
       "                     weights='uniform')"
      ]
     },
     "execution_count": 124,
     "metadata": {},
     "output_type": "execute_result"
    }
   ],
   "source": [
    "from sklearn.neighbors import KNeighborsClassifier\n",
    "classifier = KNeighborsClassifier(n_neighbors = 8)\n",
    "classifier.fit(X_train, y_train)"
   ]
  },
  {
   "cell_type": "code",
   "execution_count": 133,
   "metadata": {},
   "outputs": [
    {
     "name": "stdout",
     "output_type": "stream",
     "text": [
      "0.9446428571428573\n"
     ]
    },
    {
     "name": "stderr",
     "output_type": "stream",
     "text": [
      "d:\\python_project\\myenvpython\\lib\\site-packages\\sklearn\\model_selection\\_split.py:292: FutureWarning: Setting a random_state has no effect since shuffle is False. This will raise an error in 0.24. You should leave random_state to its default (None), or set shuffle=True.\n",
      "  warnings.warn(\n"
     ]
    }
   ],
   "source": [
    "from sklearn.model_selection import KFold\n",
    "from sklearn.model_selection import cross_val_score\n",
    "\n",
    "kfold = KFold(n_splits = 20, random_state = 7)\n",
    "results = cross_val_score(classifier, X, Y, cv = kfold)\n",
    "print(results.mean())"
   ]
  },
  {
   "cell_type": "code",
   "execution_count": 125,
   "metadata": {},
   "outputs": [
    {
     "name": "stdout",
     "output_type": "stream",
     "text": [
      "Confusion Matrix:\n",
      "[[15  0  0]\n",
      " [ 0 19  0]\n",
      " [ 0  5 21]]\n",
      "Classification Report:\n",
      "              precision    recall  f1-score   support\n",
      "\n",
      "      Setosa       1.00      1.00      1.00        15\n",
      "  Versicolor       0.79      1.00      0.88        19\n",
      "   Virginica       1.00      0.81      0.89        26\n",
      "\n",
      "    accuracy                           0.92        60\n",
      "   macro avg       0.93      0.94      0.93        60\n",
      "weighted avg       0.93      0.92      0.92        60\n",
      "\n",
      "Accuracy: 0.9166666666666666\n"
     ]
    }
   ],
   "source": [
    "y_pred = classifier.predict(X_test)\n",
    "from sklearn.metrics import classification_report, confusion_matrix, accuracy_score\n",
    "result = confusion_matrix(y_test, y_pred)\n",
    "print(\"Confusion Matrix:\")\n",
    "print(result)\n",
    "result1 = classification_report(y_test, y_pred)\n",
    "print(\"Classification Report:\",)\n",
    "print (result1)\n",
    "result2 = accuracy_score(y_test,y_pred)\n",
    "print(\"Accuracy:\",result2)"
   ]
  },
  {
   "cell_type": "markdown",
   "metadata": {},
   "source": [
    "## Performance Metrics"
   ]
  },
  {
   "cell_type": "code",
   "execution_count": 130,
   "metadata": {},
   "outputs": [
    {
     "name": "stdout",
     "output_type": "stream",
     "text": [
      "Confusion Matrix :\n",
      "[[3 3]\n",
      " [1 3]]\n",
      "Accuracy Score is 0.6\n",
      "Classification Report : \n",
      "              precision    recall  f1-score   support\n",
      "\n",
      "           0       0.75      0.50      0.60         6\n",
      "           1       0.50      0.75      0.60         4\n",
      "\n",
      "    accuracy                           0.60        10\n",
      "   macro avg       0.62      0.62      0.60        10\n",
      "weighted avg       0.65      0.60      0.60        10\n",
      "\n",
      "AUC-ROC: 0.625\n",
      "LOGLOSS Value is 13.815750437193334\n"
     ]
    }
   ],
   "source": [
    "from sklearn.metrics import confusion_matrix\n",
    "from sklearn.metrics import accuracy_score\n",
    "from sklearn.metrics import classification_report\n",
    "from sklearn.metrics import roc_auc_score\n",
    "from sklearn.metrics import log_loss\n",
    "X_actual = [1, 1, 0, 1, 0, 0, 1, 0, 0, 0]\n",
    "Y_predic = [1, 0, 1, 1, 1, 0, 1, 1, 0, 0]\n",
    "results = confusion_matrix(X_actual, Y_predic)\n",
    "print ('Confusion Matrix :')\n",
    "print(results)\n",
    "print ('Accuracy Score is',accuracy_score(X_actual, Y_predic))\n",
    "print ('Classification Report : ')\n",
    "print (classification_report(X_actual, Y_predic))\n",
    "print('AUC-ROC:',roc_auc_score(X_actual, Y_predic))\n",
    "print('LOGLOSS Value is',log_loss(X_actual, Y_predic))"
   ]
  },
  {
   "cell_type": "code",
   "execution_count": 131,
   "metadata": {},
   "outputs": [
    {
     "name": "stdout",
     "output_type": "stream",
     "text": [
      "R Squared = 0.9656060606060606\n",
      "MAE = 0.42499999999999993\n",
      "MSE = 0.5674999999999999\n"
     ]
    }
   ],
   "source": [
    "from sklearn.metrics import r2_score\n",
    "from sklearn.metrics import mean_absolute_error\n",
    "from sklearn.metrics import mean_squared_error\n",
    "X_actual = [5, -1, 2, 10]\n",
    "Y_predic = [3.5, -0.9, 2, 9.9]\n",
    "print ('R Squared =',r2_score(X_actual, Y_predic))\n",
    "print ('MAE =',mean_absolute_error(X_actual, Y_predic))\n",
    "print ('MSE =',mean_squared_error(X_actual, Y_predic))"
   ]
  },
  {
   "cell_type": "markdown",
   "metadata": {},
   "source": [
    "## Performance Improvement with Ensembles\n"
   ]
  },
  {
   "cell_type": "code",
   "execution_count": 135,
   "metadata": {},
   "outputs": [],
   "source": [
    "from pandas import read_csv\n",
    "from sklearn.model_selection import KFold\n",
    "from sklearn.model_selection import cross_val_score\n",
    "from sklearn.linear_model import LogisticRegression\n",
    "from sklearn.tree import DecisionTreeClassifier\n",
    "from sklearn.svm import SVC\n",
    "from sklearn.ensemble import VotingClassifier\n",
    "\n",
    "\n",
    "path = r\"iris.csv\"\n",
    "data = read_csv(path)\n",
    "array = data.values\n",
    "X = array[:,:-1]\n",
    "Y = array[:,3]"
   ]
  },
  {
   "cell_type": "code",
   "execution_count": 137,
   "metadata": {},
   "outputs": [
    {
     "data": {
      "text/plain": [
       "array([nan, nan, nan, nan, nan, nan, nan, nan, nan, nan])"
      ]
     },
     "execution_count": 137,
     "metadata": {},
     "output_type": "execute_result"
    }
   ],
   "source": [
    "kfold = KFold(n_splits = 10, random_state = 7)\n",
    "estimators = []\n",
    "model1 = LogisticRegression()\n",
    "estimators.append(('logistic', model1))\n",
    "model2 = DecisionTreeClassifier()\n",
    "estimators.append(('cart', model2))\n",
    "model3 = SVC()\n",
    "estimators.append(('svm', model3))\n",
    "\n",
    "ensemble = VotingClassifier(estimators)\n",
    "results = cross_val_score(ensemble, X, Y, cv = kfold)\n",
    "results"
   ]
  },
  {
   "cell_type": "code",
   "execution_count": null,
   "metadata": {},
   "outputs": [],
   "source": []
  }
 ],
 "metadata": {
  "kernelspec": {
   "display_name": "Python 3",
   "language": "python",
   "name": "python3"
  },
  "language_info": {
   "codemirror_mode": {
    "name": "ipython",
    "version": 3
   },
   "file_extension": ".py",
   "mimetype": "text/x-python",
   "name": "python",
   "nbconvert_exporter": "python",
   "pygments_lexer": "ipython3",
   "version": "3.8.2"
  }
 },
 "nbformat": 4,
 "nbformat_minor": 4
}
